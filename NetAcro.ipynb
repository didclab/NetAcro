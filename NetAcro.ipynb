{
 "cells": [
  {
   "cell_type": "markdown",
   "id": "a4eede3b-54f7-427d-afe6-07342b1b92fc",
   "metadata": {},
   "source": [
    "# Experimental Notebook for Simulator"
   ]
  },
  {
   "cell_type": "markdown",
   "id": "9da8cf38-498a-4b6c-b9d2-ab708cbe65b3",
   "metadata": {
    "jp-MarkdownHeadingCollapsed": true,
    "tags": []
   },
   "source": [
    "## Load dataset"
   ]
  },
  {
   "cell_type": "code",
   "execution_count": 361,
   "id": "281aadbc-e375-40b1-ae32-4dc8f81147bd",
   "metadata": {},
   "outputs": [],
   "source": [
    "import numpy as np\n",
    "import torch\n",
    "import torch.nn as nn\n",
    "import torch.optim as optim\n",
    "import pickle\n",
    "import matplotlib.pyplot as plt\n",
    "from torch.utils.tensorboard import SummaryWriter\n",
    "import scipy as spy\n",
    "import sklearn\n",
    "import pandas as pd\n",
    "\n",
    "from torch.nn.utils import rnn\n",
    "\n",
    "from sklearn.decomposition import PCA"
   ]
  },
  {
   "cell_type": "code",
   "execution_count": null,
   "id": "f48603e5-19b8-4fc9-a7b3-45074e7ea75d",
   "metadata": {},
   "outputs": [],
   "source": [
    "with open(\"list_v2.pkl\", 'rb') as f:\n",
    "    data_list = pickle.load(f)"
   ]
  },
  {
   "cell_type": "code",
   "execution_count": null,
   "id": "b9a70de3-fba2-4339-91f9-c27c00b56e9f",
   "metadata": {},
   "outputs": [
    {
     "data": {
      "text/html": [
       "<div>\n",
       "<style scoped>\n",
       "    .dataframe tbody tr th:only-of-type {\n",
       "        vertical-align: middle;\n",
       "    }\n",
       "\n",
       "    .dataframe tbody tr th {\n",
       "        vertical-align: top;\n",
       "    }\n",
       "\n",
       "    .dataframe thead th {\n",
       "        text-align: right;\n",
       "    }\n",
       "</style>\n",
       "<table border=\"1\" class=\"dataframe\">\n",
       "  <thead>\n",
       "    <tr style=\"text-align: right;\">\n",
       "      <th></th>\n",
       "      <th>_start</th>\n",
       "      <th>_stop</th>\n",
       "      <th>_time</th>\n",
       "      <th>APP_NAME</th>\n",
       "      <th>_measurement</th>\n",
       "      <th>ods_user</th>\n",
       "      <th>active_core_count</th>\n",
       "      <th>allocatedMemory</th>\n",
       "      <th>avgJobSize</th>\n",
       "      <th>bytes_recv</th>\n",
       "      <th>...</th>\n",
       "      <th>packets_sent</th>\n",
       "      <th>parallelism</th>\n",
       "      <th>pipelining</th>\n",
       "      <th>pmeter_end_time</th>\n",
       "      <th>pmeter_start_time</th>\n",
       "      <th>rtt</th>\n",
       "      <th>sourceType</th>\n",
       "      <th>throughput</th>\n",
       "      <th>totalBytesSent</th>\n",
       "      <th>transfer_node_name</th>\n",
       "    </tr>\n",
       "  </thead>\n",
       "  <tbody>\n",
       "    <tr>\n",
       "      <th>2</th>\n",
       "      <td>2022-11-02T18:39:12.182969367Z</td>\n",
       "      <td>2022-12-02T18:39:12.182969367Z</td>\n",
       "      <td>2022-11-02T18:40:38.03Z</td>\n",
       "      <td>elvisdav@buffalo.edu-didclab-elvis-uc</td>\n",
       "      <td>transfer_data</td>\n",
       "      <td>elvisdav@buffalo.edu</td>\n",
       "      <td>96</td>\n",
       "      <td>26122125312</td>\n",
       "      <td>1073741824</td>\n",
       "      <td>44100415</td>\n",
       "      <td>...</td>\n",
       "      <td>2634</td>\n",
       "      <td>2</td>\n",
       "      <td>8</td>\n",
       "      <td>2022-11-02T18:41:01.609</td>\n",
       "      <td>2022-11-02T18:41:00.117</td>\n",
       "      <td>236.643</td>\n",
       "      <td>http</td>\n",
       "      <td>6.437433e+08</td>\n",
       "      <td>1088000000</td>\n",
       "      <td>elvisdav@buffalo.edu-didclab-elvis-uc</td>\n",
       "    </tr>\n",
       "    <tr>\n",
       "      <th>3</th>\n",
       "      <td>2022-11-02T18:39:12.182969367Z</td>\n",
       "      <td>2022-12-02T18:39:12.182969367Z</td>\n",
       "      <td>2022-11-02T18:41:08.025Z</td>\n",
       "      <td>elvisdav@buffalo.edu-didclab-elvis-uc</td>\n",
       "      <td>transfer_data</td>\n",
       "      <td>elvisdav@buffalo.edu</td>\n",
       "      <td>96</td>\n",
       "      <td>26122125312</td>\n",
       "      <td>1073741824</td>\n",
       "      <td>44104862</td>\n",
       "      <td>...</td>\n",
       "      <td>2634</td>\n",
       "      <td>2</td>\n",
       "      <td>8</td>\n",
       "      <td>2022-11-02T18:41:31.607</td>\n",
       "      <td>2022-11-02T18:41:30.110</td>\n",
       "      <td>238.763</td>\n",
       "      <td>http</td>\n",
       "      <td>1.018078e+09</td>\n",
       "      <td>2133225472</td>\n",
       "      <td>elvisdav@buffalo.edu-didclab-elvis-uc</td>\n",
       "    </tr>\n",
       "    <tr>\n",
       "      <th>4</th>\n",
       "      <td>2022-11-02T18:39:12.182969367Z</td>\n",
       "      <td>2022-12-02T18:39:12.182969367Z</td>\n",
       "      <td>2022-11-02T18:41:38.023Z</td>\n",
       "      <td>elvisdav@buffalo.edu-didclab-elvis-uc</td>\n",
       "      <td>transfer_data</td>\n",
       "      <td>elvisdav@buffalo.edu</td>\n",
       "      <td>96</td>\n",
       "      <td>26122125312</td>\n",
       "      <td>1073741824</td>\n",
       "      <td>44106572</td>\n",
       "      <td>...</td>\n",
       "      <td>2634</td>\n",
       "      <td>1</td>\n",
       "      <td>8</td>\n",
       "      <td>2022-11-02T18:42:01.599</td>\n",
       "      <td>2022-11-02T18:42:00.110</td>\n",
       "      <td>234.185</td>\n",
       "      <td>http</td>\n",
       "      <td>2.200212e+08</td>\n",
       "      <td>2419483648</td>\n",
       "      <td>elvisdav@buffalo.edu-didclab-elvis-uc</td>\n",
       "    </tr>\n",
       "    <tr>\n",
       "      <th>5</th>\n",
       "      <td>2022-11-02T18:39:12.182969367Z</td>\n",
       "      <td>2022-12-02T18:39:12.182969367Z</td>\n",
       "      <td>2022-11-02T18:42:08.009Z</td>\n",
       "      <td>elvisdav@buffalo.edu-didclab-elvis-uc</td>\n",
       "      <td>transfer_data</td>\n",
       "      <td>elvisdav@buffalo.edu</td>\n",
       "      <td>96</td>\n",
       "      <td>26122125312</td>\n",
       "      <td>1073741824</td>\n",
       "      <td>44112731</td>\n",
       "      <td>...</td>\n",
       "      <td>2634</td>\n",
       "      <td>1</td>\n",
       "      <td>8</td>\n",
       "      <td>2022-11-02T18:42:31.593</td>\n",
       "      <td>2022-11-02T18:42:30.113</td>\n",
       "      <td>227.423</td>\n",
       "      <td>http</td>\n",
       "      <td>2.717781e+08</td>\n",
       "      <td>1345741824</td>\n",
       "      <td>elvisdav@buffalo.edu-didclab-elvis-uc</td>\n",
       "    </tr>\n",
       "    <tr>\n",
       "      <th>6</th>\n",
       "      <td>2022-11-02T18:39:12.182969367Z</td>\n",
       "      <td>2022-12-02T18:39:12.182969367Z</td>\n",
       "      <td>2022-11-02T18:42:37.988Z</td>\n",
       "      <td>elvisdav@buffalo.edu-didclab-elvis-uc</td>\n",
       "      <td>transfer_data</td>\n",
       "      <td>elvisdav@buffalo.edu</td>\n",
       "      <td>96</td>\n",
       "      <td>26122125312</td>\n",
       "      <td>1073741824</td>\n",
       "      <td>44119577</td>\n",
       "      <td>...</td>\n",
       "      <td>2634</td>\n",
       "      <td>1</td>\n",
       "      <td>8</td>\n",
       "      <td>2022-11-02T18:43:01.576</td>\n",
       "      <td>2022-11-02T18:43:00.115</td>\n",
       "      <td>216.324</td>\n",
       "      <td>http</td>\n",
       "      <td>1.092180e+08</td>\n",
       "      <td>1088000000</td>\n",
       "      <td>elvisdav@buffalo.edu-didclab-elvis-uc</td>\n",
       "    </tr>\n",
       "  </tbody>\n",
       "</table>\n",
       "<p>5 rows × 45 columns</p>\n",
       "</div>"
      ],
      "text/plain": [
       "                           _start                           _stop  \\\n",
       "2  2022-11-02T18:39:12.182969367Z  2022-12-02T18:39:12.182969367Z   \n",
       "3  2022-11-02T18:39:12.182969367Z  2022-12-02T18:39:12.182969367Z   \n",
       "4  2022-11-02T18:39:12.182969367Z  2022-12-02T18:39:12.182969367Z   \n",
       "5  2022-11-02T18:39:12.182969367Z  2022-12-02T18:39:12.182969367Z   \n",
       "6  2022-11-02T18:39:12.182969367Z  2022-12-02T18:39:12.182969367Z   \n",
       "\n",
       "                      _time                               APP_NAME  \\\n",
       "2   2022-11-02T18:40:38.03Z  elvisdav@buffalo.edu-didclab-elvis-uc   \n",
       "3  2022-11-02T18:41:08.025Z  elvisdav@buffalo.edu-didclab-elvis-uc   \n",
       "4  2022-11-02T18:41:38.023Z  elvisdav@buffalo.edu-didclab-elvis-uc   \n",
       "5  2022-11-02T18:42:08.009Z  elvisdav@buffalo.edu-didclab-elvis-uc   \n",
       "6  2022-11-02T18:42:37.988Z  elvisdav@buffalo.edu-didclab-elvis-uc   \n",
       "\n",
       "    _measurement              ods_user  active_core_count  allocatedMemory  \\\n",
       "2  transfer_data  elvisdav@buffalo.edu                 96      26122125312   \n",
       "3  transfer_data  elvisdav@buffalo.edu                 96      26122125312   \n",
       "4  transfer_data  elvisdav@buffalo.edu                 96      26122125312   \n",
       "5  transfer_data  elvisdav@buffalo.edu                 96      26122125312   \n",
       "6  transfer_data  elvisdav@buffalo.edu                 96      26122125312   \n",
       "\n",
       "   avgJobSize  bytes_recv  ...  packets_sent  parallelism  pipelining  \\\n",
       "2  1073741824    44100415  ...          2634            2           8   \n",
       "3  1073741824    44104862  ...          2634            2           8   \n",
       "4  1073741824    44106572  ...          2634            1           8   \n",
       "5  1073741824    44112731  ...          2634            1           8   \n",
       "6  1073741824    44119577  ...          2634            1           8   \n",
       "\n",
       "           pmeter_end_time        pmeter_start_time      rtt  sourceType  \\\n",
       "2  2022-11-02T18:41:01.609  2022-11-02T18:41:00.117  236.643        http   \n",
       "3  2022-11-02T18:41:31.607  2022-11-02T18:41:30.110  238.763        http   \n",
       "4  2022-11-02T18:42:01.599  2022-11-02T18:42:00.110  234.185        http   \n",
       "5  2022-11-02T18:42:31.593  2022-11-02T18:42:30.113  227.423        http   \n",
       "6  2022-11-02T18:43:01.576  2022-11-02T18:43:00.115  216.324        http   \n",
       "\n",
       "     throughput  totalBytesSent                     transfer_node_name  \n",
       "2  6.437433e+08      1088000000  elvisdav@buffalo.edu-didclab-elvis-uc  \n",
       "3  1.018078e+09      2133225472  elvisdav@buffalo.edu-didclab-elvis-uc  \n",
       "4  2.200212e+08      2419483648  elvisdav@buffalo.edu-didclab-elvis-uc  \n",
       "5  2.717781e+08      1345741824  elvisdav@buffalo.edu-didclab-elvis-uc  \n",
       "6  1.092180e+08      1088000000  elvisdav@buffalo.edu-didclab-elvis-uc  \n",
       "\n",
       "[5 rows x 45 columns]"
      ]
     },
     "execution_count": 11,
     "metadata": {},
     "output_type": "execute_result"
    }
   ],
   "source": [
    "data_list[0].head()"
   ]
  },
  {
   "cell_type": "code",
   "execution_count": null,
   "id": "b99994b8-f15f-4693-a3e0-a925ba463924",
   "metadata": {},
   "outputs": [
    {
     "name": "stdout",
     "output_type": "stream",
     "text": [
      "Number of Sequences: 1667\n"
     ]
    }
   ],
   "source": [
    "print('Number of Sequences:', len(data_list))"
   ]
  },
  {
   "cell_type": "markdown",
   "id": "ac6a9879-4713-484a-9b37-623b2a5e91c1",
   "metadata": {
    "jp-MarkdownHeadingCollapsed": true,
    "tags": []
   },
   "source": [
    "## Preprocessing"
   ]
  },
  {
   "cell_type": "markdown",
   "id": "e790973d-c9e5-4446-870e-01028276b81f",
   "metadata": {
    "jp-MarkdownHeadingCollapsed": true,
    "tags": []
   },
   "source": [
    "### Discovery"
   ]
  },
  {
   "cell_type": "code",
   "execution_count": null,
   "id": "f247ce04-c08b-4e0a-8609-bb2d7155bf45",
   "metadata": {},
   "outputs": [
    {
     "data": {
      "text/plain": [
       "Index(['_start', '_stop', '_time', 'APP_NAME', '_measurement', 'ods_user',\n",
       "       'active_core_count', 'allocatedMemory', 'avgJobSize', 'bytes_recv',\n",
       "       'bytes_sent', 'compression', 'concurrency', 'cpu_arch',\n",
       "       'cpu_frequency_current', 'cpu_frequency_max', 'cpu_frequency_min',\n",
       "       'destType', 'dropin', 'dropout', 'energy_consumed', 'errin', 'errout',\n",
       "       'freeMemory', 'interface', 'jobId', 'jobSize', 'latency',\n",
       "       'link_capacity', 'maxMemory', 'memory', 'nic_mtu', 'nic_speed',\n",
       "       'packet_loss_rate', 'packets_recv', 'packets_sent', 'parallelism',\n",
       "       'pipelining', 'pmeter_end_time', 'pmeter_start_time', 'rtt',\n",
       "       'sourceType', 'throughput', 'totalBytesSent', 'transfer_node_name'],\n",
       "      dtype='object')"
      ]
     },
     "execution_count": 42,
     "metadata": {},
     "output_type": "execute_result"
    }
   ],
   "source": [
    "data_list[0].columns"
   ]
  },
  {
   "cell_type": "code",
   "execution_count": null,
   "id": "8b5739e6-fae2-4789-a5f9-dbdf0d543856",
   "metadata": {},
   "outputs": [
    {
     "name": "stdout",
     "output_type": "stream",
     "text": [
      "['active_core_count', 'allocatedMemory', 'avgJobSize', 'bytes_recv', 'bytes_sent', 'compression', 'concurrency', 'cpu_frequency_current', 'cpu_frequency_max', 'cpu_frequency_min', 'dropin', 'dropout', 'energy_consumed', 'errin', 'errout', 'freeMemory', 'jobId', 'jobSize', 'latency', 'link_capacity', 'maxMemory', 'memory', 'nic_mtu', 'nic_speed', 'packet_loss_rate', 'packets_recv', 'packets_sent', 'parallelism', 'pipelining', 'rtt', 'throughput', 'totalBytesSent']\n"
     ]
    }
   ],
   "source": [
    "# data_list[0].freeMemory.dtype == np.dtype(object)\n",
    "numeric_cols = [c for c in data_list[0].columns if data_list[0][c].dtype != np.dtype(object)]\n",
    "print(numeric_cols)"
   ]
  },
  {
   "cell_type": "code",
   "execution_count": null,
   "id": "f028b5d3-82a4-425b-80df-4388113699f2",
   "metadata": {},
   "outputs": [],
   "source": [
    "numeric_data_list = [D[numeric_cols] for D in data_list]\n",
    "print('Number of Sequences:', len(numeric_data_list))\n",
    "# numeric_data_list[0].head()"
   ]
  },
  {
   "cell_type": "code",
   "execution_count": null,
   "id": "b9254e55-cd85-40a5-bd86-35fea8b6f5c1",
   "metadata": {},
   "outputs": [],
   "source": [
    "full_df = pd.concat(numeric_data_list)\n",
    "test = (numeric_data_list[0] - numeric_data_list[0].mean()) / (numeric_data_list[0].std())"
   ]
  },
  {
   "cell_type": "code",
   "execution_count": null,
   "id": "4724af94-767e-4799-9c3e-0344a8730084",
   "metadata": {},
   "outputs": [
    {
     "name": "stdout",
     "output_type": "stream",
     "text": [
      "['bytes_recv', 'bytes_sent', 'concurrency', 'cpu_frequency_current', 'freeMemory', 'latency', 'memory', 'packets_recv', 'packets_sent', 'parallelism', 'rtt', 'throughput', 'totalBytesSent']\n"
     ]
    }
   ],
   "source": [
    "# test.dropna(axis=1)\n",
    "final_columns = list(test.dropna(axis=1))\n",
    "print(final_columns)"
   ]
  },
  {
   "cell_type": "code",
   "execution_count": null,
   "id": "654bd1cd-991b-4a5d-969c-fbb069edab69",
   "metadata": {},
   "outputs": [
    {
     "data": {
      "text/html": [
       "<div>\n",
       "<style scoped>\n",
       "    .dataframe tbody tr th:only-of-type {\n",
       "        vertical-align: middle;\n",
       "    }\n",
       "\n",
       "    .dataframe tbody tr th {\n",
       "        vertical-align: top;\n",
       "    }\n",
       "\n",
       "    .dataframe thead th {\n",
       "        text-align: right;\n",
       "    }\n",
       "</style>\n",
       "<table border=\"1\" class=\"dataframe\">\n",
       "  <thead>\n",
       "    <tr style=\"text-align: right;\">\n",
       "      <th></th>\n",
       "      <th>bytes_recv</th>\n",
       "      <th>bytes_sent</th>\n",
       "      <th>concurrency</th>\n",
       "      <th>cpu_frequency_current</th>\n",
       "      <th>freeMemory</th>\n",
       "      <th>latency</th>\n",
       "      <th>memory</th>\n",
       "      <th>packets_recv</th>\n",
       "      <th>packets_sent</th>\n",
       "      <th>parallelism</th>\n",
       "      <th>rtt</th>\n",
       "      <th>throughput</th>\n",
       "      <th>totalBytesSent</th>\n",
       "    </tr>\n",
       "  </thead>\n",
       "  <tbody>\n",
       "    <tr>\n",
       "      <th>2</th>\n",
       "      <td>-1.193138</td>\n",
       "      <td>-1.213334</td>\n",
       "      <td>-0.461336</td>\n",
       "      <td>0.016111</td>\n",
       "      <td>0.182852</td>\n",
       "      <td>0.605685</td>\n",
       "      <td>-0.807242</td>\n",
       "      <td>-1.193145</td>\n",
       "      <td>-1.213207</td>\n",
       "      <td>-0.639455</td>\n",
       "      <td>2.710091</td>\n",
       "      <td>-0.627423</td>\n",
       "      <td>-1.268611</td>\n",
       "    </tr>\n",
       "    <tr>\n",
       "      <th>3</th>\n",
       "      <td>-1.193138</td>\n",
       "      <td>-1.213334</td>\n",
       "      <td>-0.461336</td>\n",
       "      <td>-0.205508</td>\n",
       "      <td>-0.447518</td>\n",
       "      <td>0.620537</td>\n",
       "      <td>-0.012810</td>\n",
       "      <td>-1.193145</td>\n",
       "      <td>-1.213207</td>\n",
       "      <td>-0.639455</td>\n",
       "      <td>2.749202</td>\n",
       "      <td>-0.583059</td>\n",
       "      <td>-1.007988</td>\n",
       "    </tr>\n",
       "    <tr>\n",
       "      <th>4</th>\n",
       "      <td>-1.193138</td>\n",
       "      <td>-1.213334</td>\n",
       "      <td>-0.461336</td>\n",
       "      <td>-0.216687</td>\n",
       "      <td>-1.077883</td>\n",
       "      <td>0.621355</td>\n",
       "      <td>0.781617</td>\n",
       "      <td>-1.193145</td>\n",
       "      <td>-1.213207</td>\n",
       "      <td>-0.994308</td>\n",
       "      <td>2.664745</td>\n",
       "      <td>-0.677640</td>\n",
       "      <td>-0.936610</td>\n",
       "    </tr>\n",
       "    <tr>\n",
       "      <th>5</th>\n",
       "      <td>-1.193138</td>\n",
       "      <td>-1.213334</td>\n",
       "      <td>-0.461336</td>\n",
       "      <td>-0.267716</td>\n",
       "      <td>-1.508530</td>\n",
       "      <td>0.598821</td>\n",
       "      <td>1.324345</td>\n",
       "      <td>-1.193145</td>\n",
       "      <td>-1.213207</td>\n",
       "      <td>-0.994308</td>\n",
       "      <td>2.539997</td>\n",
       "      <td>-0.671506</td>\n",
       "      <td>-1.204344</td>\n",
       "    </tr>\n",
       "    <tr>\n",
       "      <th>6</th>\n",
       "      <td>-1.193138</td>\n",
       "      <td>-1.213334</td>\n",
       "      <td>-0.461336</td>\n",
       "      <td>0.397464</td>\n",
       "      <td>0.376316</td>\n",
       "      <td>0.604905</td>\n",
       "      <td>-1.051058</td>\n",
       "      <td>-1.193145</td>\n",
       "      <td>-1.213207</td>\n",
       "      <td>-0.994308</td>\n",
       "      <td>2.335239</td>\n",
       "      <td>-0.690772</td>\n",
       "      <td>-1.268611</td>\n",
       "    </tr>\n",
       "  </tbody>\n",
       "</table>\n",
       "</div>"
      ],
      "text/plain": [
       "   bytes_recv  bytes_sent  concurrency  cpu_frequency_current  freeMemory  \\\n",
       "2   -1.193138   -1.213334    -0.461336               0.016111    0.182852   \n",
       "3   -1.193138   -1.213334    -0.461336              -0.205508   -0.447518   \n",
       "4   -1.193138   -1.213334    -0.461336              -0.216687   -1.077883   \n",
       "5   -1.193138   -1.213334    -0.461336              -0.267716   -1.508530   \n",
       "6   -1.193138   -1.213334    -0.461336               0.397464    0.376316   \n",
       "\n",
       "    latency    memory  packets_recv  packets_sent  parallelism       rtt  \\\n",
       "2  0.605685 -0.807242     -1.193145     -1.213207    -0.639455  2.710091   \n",
       "3  0.620537 -0.012810     -1.193145     -1.213207    -0.639455  2.749202   \n",
       "4  0.621355  0.781617     -1.193145     -1.213207    -0.994308  2.664745   \n",
       "5  0.598821  1.324345     -1.193145     -1.213207    -0.994308  2.539997   \n",
       "6  0.604905 -1.051058     -1.193145     -1.213207    -0.994308  2.335239   \n",
       "\n",
       "   throughput  totalBytesSent  \n",
       "2   -0.627423       -1.268611  \n",
       "3   -0.583059       -1.007988  \n",
       "4   -0.677640       -0.936610  \n",
       "5   -0.671506       -1.204344  \n",
       "6   -0.690772       -1.268611  "
      ]
     },
     "execution_count": 86,
     "metadata": {},
     "output_type": "execute_result"
    }
   ],
   "source": [
    "trim_list = [df[final_columns] for df in numeric_data_list]\n",
    "full_df = full_df[final_columns]\n",
    "final_list = [(df - full_df.mean()) / full_df.std() for df in trim_list]\n",
    "final_list[0].head()"
   ]
  },
  {
   "cell_type": "code",
   "execution_count": null,
   "id": "6a037203-58df-4015-9def-a39b42cff1d9",
   "metadata": {},
   "outputs": [
    {
     "data": {
      "text/plain": [
       "(13, 13)"
      ]
     },
     "execution_count": 87,
     "metadata": {},
     "output_type": "execute_result"
    }
   ],
   "source": [
    "final_list[4].shape"
   ]
  },
  {
   "cell_type": "markdown",
   "id": "0ea5ebf4-0deb-496b-810c-b226fb236933",
   "metadata": {
    "jp-MarkdownHeadingCollapsed": true,
    "tags": []
   },
   "source": [
    "### PCA"
   ]
  },
  {
   "cell_type": "code",
   "execution_count": null,
   "id": "10a0b6bf-399d-44af-992c-7e9bd7f91756",
   "metadata": {},
   "outputs": [],
   "source": [
    "# PCA\n",
    "combined_df = pd.concat(final_list)\n",
    "# pca = PCA(n_components=8)\n",
    "# pca.fit(combined_df)"
   ]
  },
  {
   "cell_type": "code",
   "execution_count": null,
   "id": "4d028c16-b68a-46c2-95df-256e86bc8a56",
   "metadata": {},
   "outputs": [
    {
     "data": {
      "text/plain": [
       "603"
      ]
     },
     "execution_count": 90,
     "metadata": {},
     "output_type": "execute_result"
    }
   ],
   "source": [
    "# combined_df.isnull().sum()\n",
    "combined_df.throughput.isnull().sum()"
   ]
  },
  {
   "cell_type": "code",
   "execution_count": null,
   "id": "5e08f1c4-13d5-4a88-8454-0dfcac118244",
   "metadata": {},
   "outputs": [],
   "source": [
    "squeezed_list = []\n",
    "\n",
    "for d in final_list:\n",
    "    if d.throughput.isnull().sum() == 0:\n",
    "        squeezed_list.append(d)\n"
   ]
  },
  {
   "cell_type": "code",
   "execution_count": null,
   "id": "9cb5d6e1-5dde-47bb-980a-9c2d3108bd2b",
   "metadata": {},
   "outputs": [
    {
     "data": {
      "text/plain": [
       "bytes_recv               0\n",
       "bytes_sent               0\n",
       "concurrency              0\n",
       "cpu_frequency_current    0\n",
       "freeMemory               0\n",
       "latency                  0\n",
       "memory                   0\n",
       "packets_recv             0\n",
       "packets_sent             0\n",
       "parallelism              0\n",
       "rtt                      0\n",
       "throughput               0\n",
       "totalBytesSent           0\n",
       "dtype: int64"
      ]
     },
     "execution_count": 93,
     "metadata": {},
     "output_type": "execute_result"
    }
   ],
   "source": [
    "final_df = pd.concat(squeezed_list)\n",
    "final_df.isnull().sum()"
   ]
  },
  {
   "cell_type": "code",
   "execution_count": null,
   "id": "e80b4183-50e3-4274-9c59-2b4c3092eec4",
   "metadata": {},
   "outputs": [
    {
     "data": {
      "text/plain": [
       "(9032, 13)"
      ]
     },
     "execution_count": 94,
     "metadata": {},
     "output_type": "execute_result"
    }
   ],
   "source": [
    "final_df.shape"
   ]
  },
  {
   "cell_type": "code",
   "execution_count": null,
   "id": "9ffcc7e1-e434-46a3-a81b-85f2468c4a5a",
   "metadata": {},
   "outputs": [
    {
     "data": {
      "text/html": [
       "<style>#sk-container-id-1 {color: black;background-color: white;}#sk-container-id-1 pre{padding: 0;}#sk-container-id-1 div.sk-toggleable {background-color: white;}#sk-container-id-1 label.sk-toggleable__label {cursor: pointer;display: block;width: 100%;margin-bottom: 0;padding: 0.3em;box-sizing: border-box;text-align: center;}#sk-container-id-1 label.sk-toggleable__label-arrow:before {content: \"▸\";float: left;margin-right: 0.25em;color: #696969;}#sk-container-id-1 label.sk-toggleable__label-arrow:hover:before {color: black;}#sk-container-id-1 div.sk-estimator:hover label.sk-toggleable__label-arrow:before {color: black;}#sk-container-id-1 div.sk-toggleable__content {max-height: 0;max-width: 0;overflow: hidden;text-align: left;background-color: #f0f8ff;}#sk-container-id-1 div.sk-toggleable__content pre {margin: 0.2em;color: black;border-radius: 0.25em;background-color: #f0f8ff;}#sk-container-id-1 input.sk-toggleable__control:checked~div.sk-toggleable__content {max-height: 200px;max-width: 100%;overflow: auto;}#sk-container-id-1 input.sk-toggleable__control:checked~label.sk-toggleable__label-arrow:before {content: \"▾\";}#sk-container-id-1 div.sk-estimator input.sk-toggleable__control:checked~label.sk-toggleable__label {background-color: #d4ebff;}#sk-container-id-1 div.sk-label input.sk-toggleable__control:checked~label.sk-toggleable__label {background-color: #d4ebff;}#sk-container-id-1 input.sk-hidden--visually {border: 0;clip: rect(1px 1px 1px 1px);clip: rect(1px, 1px, 1px, 1px);height: 1px;margin: -1px;overflow: hidden;padding: 0;position: absolute;width: 1px;}#sk-container-id-1 div.sk-estimator {font-family: monospace;background-color: #f0f8ff;border: 1px dotted black;border-radius: 0.25em;box-sizing: border-box;margin-bottom: 0.5em;}#sk-container-id-1 div.sk-estimator:hover {background-color: #d4ebff;}#sk-container-id-1 div.sk-parallel-item::after {content: \"\";width: 100%;border-bottom: 1px solid gray;flex-grow: 1;}#sk-container-id-1 div.sk-label:hover label.sk-toggleable__label {background-color: #d4ebff;}#sk-container-id-1 div.sk-serial::before {content: \"\";position: absolute;border-left: 1px solid gray;box-sizing: border-box;top: 0;bottom: 0;left: 50%;z-index: 0;}#sk-container-id-1 div.sk-serial {display: flex;flex-direction: column;align-items: center;background-color: white;padding-right: 0.2em;padding-left: 0.2em;position: relative;}#sk-container-id-1 div.sk-item {position: relative;z-index: 1;}#sk-container-id-1 div.sk-parallel {display: flex;align-items: stretch;justify-content: center;background-color: white;position: relative;}#sk-container-id-1 div.sk-item::before, #sk-container-id-1 div.sk-parallel-item::before {content: \"\";position: absolute;border-left: 1px solid gray;box-sizing: border-box;top: 0;bottom: 0;left: 50%;z-index: -1;}#sk-container-id-1 div.sk-parallel-item {display: flex;flex-direction: column;z-index: 1;position: relative;background-color: white;}#sk-container-id-1 div.sk-parallel-item:first-child::after {align-self: flex-end;width: 50%;}#sk-container-id-1 div.sk-parallel-item:last-child::after {align-self: flex-start;width: 50%;}#sk-container-id-1 div.sk-parallel-item:only-child::after {width: 0;}#sk-container-id-1 div.sk-dashed-wrapped {border: 1px dashed gray;margin: 0 0.4em 0.5em 0.4em;box-sizing: border-box;padding-bottom: 0.4em;background-color: white;}#sk-container-id-1 div.sk-label label {font-family: monospace;font-weight: bold;display: inline-block;line-height: 1.2em;}#sk-container-id-1 div.sk-label-container {text-align: center;}#sk-container-id-1 div.sk-container {/* jupyter's `normalize.less` sets `[hidden] { display: none; }` but bootstrap.min.css set `[hidden] { display: none !important; }` so we also need the `!important` here to be able to override the default hidden behavior on the sphinx rendered scikit-learn.org. See: https://github.com/scikit-learn/scikit-learn/issues/21755 */display: inline-block !important;position: relative;}#sk-container-id-1 div.sk-text-repr-fallback {display: none;}</style><div id=\"sk-container-id-1\" class=\"sk-top-container\"><div class=\"sk-text-repr-fallback\"><pre>PCA(n_components=6)</pre><b>In a Jupyter environment, please rerun this cell to show the HTML representation or trust the notebook. <br />On GitHub, the HTML representation is unable to render, please try loading this page with nbviewer.org.</b></div><div class=\"sk-container\" hidden><div class=\"sk-item\"><div class=\"sk-estimator sk-toggleable\"><input class=\"sk-toggleable__control sk-hidden--visually\" id=\"sk-estimator-id-1\" type=\"checkbox\" checked><label for=\"sk-estimator-id-1\" class=\"sk-toggleable__label sk-toggleable__label-arrow\">PCA</label><div class=\"sk-toggleable__content\"><pre>PCA(n_components=6)</pre></div></div></div></div></div>"
      ],
      "text/plain": [
       "PCA(n_components=6)"
      ]
     },
     "execution_count": 96,
     "metadata": {},
     "output_type": "execute_result"
    }
   ],
   "source": [
    "pca = PCA(n_components=6)\n",
    "pca.fit(final_df)"
   ]
  },
  {
   "cell_type": "code",
   "execution_count": null,
   "id": "1fcd266c-eab9-472e-8169-d930108cae93",
   "metadata": {},
   "outputs": [],
   "source": [
    "reduced_list = [pca.transform(df) for df in squeezed_list]"
   ]
  },
  {
   "cell_type": "code",
   "execution_count": null,
   "id": "5aea5597-6163-44e5-93f7-c7127dd0560a",
   "metadata": {},
   "outputs": [],
   "source": [
    "reduced_list[0]"
   ]
  },
  {
   "cell_type": "code",
   "execution_count": null,
   "id": "8c95d9ca-18ac-4e19-823f-71b48b2ee0f2",
   "metadata": {},
   "outputs": [],
   "source": [
    "reduced_df = pca.transform(final_df)"
   ]
  },
  {
   "cell_type": "code",
   "execution_count": null,
   "id": "88e73f14-eef0-467e-957b-a509eea4db9b",
   "metadata": {},
   "outputs": [],
   "source": [
    "with open('pca_list_v2.pkl', 'wb') as f:\n",
    "    pickle.dump(reduced_list, f)\n",
    "\n",
    "with open('pca_combined_v2.pkl', 'wb') as f:\n",
    "    pickle.dump(reduced_df, f)\n"
   ]
  },
  {
   "cell_type": "code",
   "execution_count": null,
   "id": "67bc6b1e-855a-4589-abf7-f63fc7889dbf",
   "metadata": {},
   "outputs": [],
   "source": [
    "with open('squeezed_list_v2.pkl', 'wb') as f:\n",
    "    pickle.dump(squeezed_list, f)\n",
    "    \n",
    "with open('squeezed_df_v2.pkl', 'wb') as f:\n",
    "    pickle.dump(final_df, f)\n"
   ]
  },
  {
   "cell_type": "markdown",
   "id": "8728d6af-830c-4478-a70e-d571c18acc71",
   "metadata": {
    "jp-MarkdownHeadingCollapsed": true,
    "tags": []
   },
   "source": [
    "### Splits"
   ]
  },
  {
   "cell_type": "code",
   "execution_count": null,
   "id": "19bf1f7f-228c-4e11-bbde-1fb7cb20bad8",
   "metadata": {},
   "outputs": [
    {
     "data": {
      "text/plain": [
       "1313"
      ]
     },
     "execution_count": 104,
     "metadata": {},
     "output_type": "execute_result"
    }
   ],
   "source": [
    "len(reduced_list)"
   ]
  },
  {
   "cell_type": "code",
   "execution_count": null,
   "id": "8df09032-702b-451c-9337-d7bedea66c6d",
   "metadata": {},
   "outputs": [],
   "source": [
    "from random import shuffle\n",
    "\n",
    "# ONCE EXECUTED; LIST IS SHUFFLED IN-PLACE\n",
    "# USE PICKLE CHECKPOINT TO RESTORE reduced_list\n",
    "shuffle(reduced_list)"
   ]
  },
  {
   "cell_type": "code",
   "execution_count": null,
   "id": "6e87a815-37d8-43cc-9d45-43ff832bb46c",
   "metadata": {},
   "outputs": [],
   "source": [
    "train_set = reduced_list[0:1000]\n",
    "validate_set = reduced_list[1000:1020]\n",
    "test_set = reduced_list[1020:]"
   ]
  },
  {
   "cell_type": "code",
   "execution_count": null,
   "id": "fc003f33-a0a5-413b-937d-8f5d44d00030",
   "metadata": {},
   "outputs": [
    {
     "data": {
      "text/plain": [
       "1313"
      ]
     },
     "execution_count": 109,
     "metadata": {},
     "output_type": "execute_result"
    }
   ],
   "source": [
    "len(squeezed_list)"
   ]
  },
  {
   "cell_type": "code",
   "execution_count": null,
   "id": "bdd9be23-7cc4-4ce5-9633-8e6ac462c7a9",
   "metadata": {},
   "outputs": [],
   "source": [
    "shuffle(squeezed_list)"
   ]
  },
  {
   "cell_type": "code",
   "execution_count": null,
   "id": "da6e0b26-5754-422d-a3ee-3c77c4d4681a",
   "metadata": {},
   "outputs": [],
   "source": [
    "train_set = squeezed_list[0:1000]\n",
    "validate_set = squeezed_list[1000:1020]\n",
    "test_set = squeezed_list[1020:]"
   ]
  },
  {
   "cell_type": "code",
   "execution_count": null,
   "id": "41e2cd7a-a1d1-4c1f-8ed7-d0e3868abb86",
   "metadata": {},
   "outputs": [
    {
     "data": {
      "text/html": [
       "<div>\n",
       "<style scoped>\n",
       "    .dataframe tbody tr th:only-of-type {\n",
       "        vertical-align: middle;\n",
       "    }\n",
       "\n",
       "    .dataframe tbody tr th {\n",
       "        vertical-align: top;\n",
       "    }\n",
       "\n",
       "    .dataframe thead th {\n",
       "        text-align: right;\n",
       "    }\n",
       "</style>\n",
       "<table border=\"1\" class=\"dataframe\">\n",
       "  <thead>\n",
       "    <tr style=\"text-align: right;\">\n",
       "      <th></th>\n",
       "      <th>bytes_recv</th>\n",
       "      <th>bytes_sent</th>\n",
       "      <th>concurrency</th>\n",
       "      <th>cpu_frequency_current</th>\n",
       "      <th>freeMemory</th>\n",
       "      <th>latency</th>\n",
       "      <th>memory</th>\n",
       "      <th>packets_recv</th>\n",
       "      <th>packets_sent</th>\n",
       "      <th>parallelism</th>\n",
       "      <th>rtt</th>\n",
       "      <th>throughput</th>\n",
       "      <th>totalBytesSent</th>\n",
       "    </tr>\n",
       "  </thead>\n",
       "  <tbody>\n",
       "    <tr>\n",
       "      <th>10257</th>\n",
       "      <td>-0.568651</td>\n",
       "      <td>-0.554845</td>\n",
       "      <td>-1.143909</td>\n",
       "      <td>-0.329011</td>\n",
       "      <td>-1.087784</td>\n",
       "      <td>-0.233538</td>\n",
       "      <td>-1.072813</td>\n",
       "      <td>-0.568639</td>\n",
       "      <td>-0.555303</td>\n",
       "      <td>-0.994308</td>\n",
       "      <td>-0.399253</td>\n",
       "      <td>-0.391309</td>\n",
       "      <td>-1.004432</td>\n",
       "    </tr>\n",
       "    <tr>\n",
       "      <th>10258</th>\n",
       "      <td>-0.568575</td>\n",
       "      <td>-0.554793</td>\n",
       "      <td>-1.143909</td>\n",
       "      <td>-0.222599</td>\n",
       "      <td>-1.506309</td>\n",
       "      <td>-0.220985</td>\n",
       "      <td>-0.545361</td>\n",
       "      <td>-0.568563</td>\n",
       "      <td>-0.555251</td>\n",
       "      <td>-0.994308</td>\n",
       "      <td>0.223121</td>\n",
       "      <td>-0.079176</td>\n",
       "      <td>-1.004432</td>\n",
       "    </tr>\n",
       "    <tr>\n",
       "      <th>10259</th>\n",
       "      <td>-0.568491</td>\n",
       "      <td>-0.554736</td>\n",
       "      <td>-1.143909</td>\n",
       "      <td>-0.538060</td>\n",
       "      <td>-0.744114</td>\n",
       "      <td>-0.188564</td>\n",
       "      <td>-1.505928</td>\n",
       "      <td>-0.568479</td>\n",
       "      <td>-0.555194</td>\n",
       "      <td>-0.994308</td>\n",
       "      <td>0.154770</td>\n",
       "      <td>-0.654502</td>\n",
       "      <td>-1.138299</td>\n",
       "    </tr>\n",
       "    <tr>\n",
       "      <th>10260</th>\n",
       "      <td>-0.568417</td>\n",
       "      <td>-0.554685</td>\n",
       "      <td>-1.143909</td>\n",
       "      <td>-0.690391</td>\n",
       "      <td>-0.845078</td>\n",
       "      <td>-0.224667</td>\n",
       "      <td>-1.378687</td>\n",
       "      <td>-0.568405</td>\n",
       "      <td>-0.555144</td>\n",
       "      <td>-0.994308</td>\n",
       "      <td>-0.070854</td>\n",
       "      <td>-0.653497</td>\n",
       "      <td>-1.138299</td>\n",
       "    </tr>\n",
       "    <tr>\n",
       "      <th>10261</th>\n",
       "      <td>-0.568337</td>\n",
       "      <td>-0.554630</td>\n",
       "      <td>-1.143909</td>\n",
       "      <td>0.468602</td>\n",
       "      <td>-0.732931</td>\n",
       "      <td>-0.191481</td>\n",
       "      <td>-1.520022</td>\n",
       "      <td>-0.568325</td>\n",
       "      <td>-0.555089</td>\n",
       "      <td>-0.994308</td>\n",
       "      <td>0.187977</td>\n",
       "      <td>-0.654236</td>\n",
       "      <td>-1.138299</td>\n",
       "    </tr>\n",
       "  </tbody>\n",
       "</table>\n",
       "</div>"
      ],
      "text/plain": [
       "       bytes_recv  bytes_sent  concurrency  cpu_frequency_current  freeMemory  \\\n",
       "10257   -0.568651   -0.554845    -1.143909              -0.329011   -1.087784   \n",
       "10258   -0.568575   -0.554793    -1.143909              -0.222599   -1.506309   \n",
       "10259   -0.568491   -0.554736    -1.143909              -0.538060   -0.744114   \n",
       "10260   -0.568417   -0.554685    -1.143909              -0.690391   -0.845078   \n",
       "10261   -0.568337   -0.554630    -1.143909               0.468602   -0.732931   \n",
       "\n",
       "        latency    memory  packets_recv  packets_sent  parallelism       rtt  \\\n",
       "10257 -0.233538 -1.072813     -0.568639     -0.555303    -0.994308 -0.399253   \n",
       "10258 -0.220985 -0.545361     -0.568563     -0.555251    -0.994308  0.223121   \n",
       "10259 -0.188564 -1.505928     -0.568479     -0.555194    -0.994308  0.154770   \n",
       "10260 -0.224667 -1.378687     -0.568405     -0.555144    -0.994308 -0.070854   \n",
       "10261 -0.191481 -1.520022     -0.568325     -0.555089    -0.994308  0.187977   \n",
       "\n",
       "       throughput  totalBytesSent  \n",
       "10257   -0.391309       -1.004432  \n",
       "10258   -0.079176       -1.004432  \n",
       "10259   -0.654502       -1.138299  \n",
       "10260   -0.653497       -1.138299  \n",
       "10261   -0.654236       -1.138299  "
      ]
     },
     "execution_count": 114,
     "metadata": {},
     "output_type": "execute_result"
    }
   ],
   "source": [
    "test_set[0].head()"
   ]
  },
  {
   "cell_type": "markdown",
   "id": "e5f0c6c2-47cd-4785-8c24-ea23b5f5f3f9",
   "metadata": {},
   "source": [
    "## Phase 1: FC GAN"
   ]
  },
  {
   "cell_type": "markdown",
   "id": "ff603dc0-c59f-4afc-a390-41f9ef8be1c6",
   "metadata": {
    "jp-MarkdownHeadingCollapsed": true,
    "tags": []
   },
   "source": [
    "### Classes"
   ]
  },
  {
   "cell_type": "code",
   "execution_count": null,
   "id": "9eccded0-b3cc-4015-b40f-09fc6bd3c12e",
   "metadata": {},
   "outputs": [
    {
     "name": "stdout",
     "output_type": "stream",
     "text": [
      "Using cuda device\n"
     ]
    }
   ],
   "source": [
    "device = \"cuda\" if torch.cuda.is_available() else \"cpu\"\n",
    "print(f\"Using {device} device\")"
   ]
  },
  {
   "cell_type": "code",
   "execution_count": null,
   "id": "8e0d8482-a0a0-4f28-ad7f-44d8b6f371bb",
   "metadata": {},
   "outputs": [
    {
     "data": {
      "text/plain": [
       "bytes_recv              -1.193138\n",
       "bytes_sent              -1.213333\n",
       "concurrency              0.562524\n",
       "cpu_frequency_current   -0.401619\n",
       "freeMemory              -0.133230\n",
       "latency                  0.594822\n",
       "memory                  -0.408896\n",
       "packets_recv            -1.193144\n",
       "packets_sent            -1.213207\n",
       "parallelism             -0.284601\n",
       "rtt                      3.840350\n",
       "throughput              -0.662322\n",
       "totalBytesSent          -1.377126\n",
       "Name: 383, dtype: float64"
      ]
     },
     "execution_count": 115,
     "metadata": {},
     "output_type": "execute_result"
    }
   ],
   "source": [
    "train_set[0].iloc[0]"
   ]
  },
  {
   "cell_type": "code",
   "execution_count": null,
   "id": "d4eef1d1-2cce-44aa-a222-21d6417e6a08",
   "metadata": {},
   "outputs": [
    {
     "data": {
      "text/plain": [
       "array([-1.19313827, -1.21333276,  0.56252383, -0.40161903, -0.13322958,\n",
       "        0.59482239, -0.40889617, -1.1931442 , -1.2132068 , -0.28460129,\n",
       "        3.84034962, -0.66232223, -1.37712594])"
      ]
     },
     "execution_count": 116,
     "metadata": {},
     "output_type": "execute_result"
    }
   ],
   "source": [
    "train_set[0].iloc[0].to_numpy()"
   ]
  },
  {
   "cell_type": "code",
   "execution_count": null,
   "id": "b5f792c1-ddf1-4220-a7df-bfa1496a78da",
   "metadata": {},
   "outputs": [],
   "source": [
    "## Pull the first state from each sequence\n",
    "train_phase1 = np.array([df.iloc[0].to_numpy() for df in train_set])\n",
    "validate_phase1 = np.array([df.iloc[0].to_numpy() for df in validate_set])\n",
    "test_phase1 = np.array([df.iloc[0].to_numpy() for df in test_set])"
   ]
  },
  {
   "cell_type": "code",
   "execution_count": null,
   "id": "71ab3bef-8168-435c-96f0-00043f511790",
   "metadata": {},
   "outputs": [
    {
     "data": {
      "text/plain": [
       "(1000, 13)"
      ]
     },
     "execution_count": 121,
     "metadata": {},
     "output_type": "execute_result"
    }
   ],
   "source": [
    "train_phase1.shape"
   ]
  },
  {
   "cell_type": "code",
   "execution_count": null,
   "id": "37d1ab42-49aa-4d7e-87bb-00596062f78b",
   "metadata": {},
   "outputs": [],
   "source": [
    "validate_tensor = torch.from_numpy(validate_phase1).double()# .to(device)\n",
    "train_tensor = torch.from_numpy(train_phase1).double()# .to(device)\n",
    "test_tensor = torch.from_numpy(test_phase1).double()# .to(device)"
   ]
  },
  {
   "cell_type": "code",
   "execution_count": null,
   "id": "6bf27cb2-a965-4f67-a4c0-809286966a3d",
   "metadata": {},
   "outputs": [
    {
     "data": {
      "text/plain": [
       "tensor([-0.2069, -0.1839,  0.5625, -0.1734,  0.4675, -0.2036, -0.0630, -0.2069,\n",
       "        -0.1838,  0.4251, -0.6654, -0.5901, -0.7367], dtype=torch.float64)"
      ]
     },
     "execution_count": 156,
     "metadata": {},
     "output_type": "execute_result"
    }
   ],
   "source": [
    "validate_tensor[0]"
   ]
  },
  {
   "cell_type": "code",
   "execution_count": null,
   "id": "29818736-36ff-4ba9-a027-6cb613d4cdfb",
   "metadata": {},
   "outputs": [],
   "source": [
    "class Discriminator(nn.Module):\n",
    "    def __init__(self, in_size, out_size=1):\n",
    "        super(Discriminator, self).__init__()\n",
    "        self.main = nn.Sequential(\n",
    "            \n",
    "            nn.Linear(in_size, 13),\n",
    "            nn.Tanh(),\n",
    "            \n",
    "            nn.Linear(13, 10),\n",
    "            nn.Tanh(),\n",
    "            \n",
    "            nn.Linear(10, 5),\n",
    "            nn.Tanh(),\n",
    "            \n",
    "            nn.Linear(5, 3),\n",
    "            nn.Tanh(),\n",
    "            \n",
    "            nn.Linear(3, out_size),\n",
    "            nn.Sigmoid()\n",
    "        )\n",
    "\n",
    "    def forward(self, inp):\n",
    "        return self.main(inp)\n"
   ]
  },
  {
   "cell_type": "code",
   "execution_count": null,
   "id": "369081de-1896-4ea5-bd49-08c8ac2c6817",
   "metadata": {},
   "outputs": [
    {
     "data": {
      "text/plain": [
       "Discriminator(\n",
       "  (main): Sequential(\n",
       "    (0): Linear(in_features=13, out_features=13, bias=True)\n",
       "    (1): Tanh()\n",
       "    (2): Linear(in_features=13, out_features=10, bias=True)\n",
       "    (3): Tanh()\n",
       "    (4): Linear(in_features=10, out_features=5, bias=True)\n",
       "    (5): Tanh()\n",
       "    (6): Linear(in_features=5, out_features=3, bias=True)\n",
       "    (7): Tanh()\n",
       "    (8): Linear(in_features=3, out_features=1, bias=True)\n",
       "    (9): Sigmoid()\n",
       "  )\n",
       ")"
      ]
     },
     "execution_count": 144,
     "metadata": {},
     "output_type": "execute_result"
    }
   ],
   "source": [
    "Discriminator(validate_tensor.shape[-1])"
   ]
  },
  {
   "cell_type": "code",
   "execution_count": null,
   "id": "4fdaa3ba-3eb2-4187-bd62-b308c3e1af49",
   "metadata": {},
   "outputs": [],
   "source": [
    "class Generator(nn.Module):\n",
    "    def __init__(self, in_size, out_size):\n",
    "        super(Generator, self).__init__()\n",
    "        self.main = nn.Sequential(\n",
    "            \n",
    "            nn.Linear(in_size, 18),\n",
    "            nn.Tanh(),\n",
    "            \n",
    "            nn.Linear(18, 17),\n",
    "            nn.Tanh(),\n",
    "            \n",
    "            nn.Linear(17, 16),\n",
    "            nn.Tanh(),\n",
    "            \n",
    "            nn.Linear(16, out_size),\n",
    "        )\n",
    "\n",
    "    def forward(self, inp):\n",
    "        return self.main(inp)\n"
   ]
  },
  {
   "cell_type": "markdown",
   "id": "125a2d75-0672-42ac-a74d-ea5fb46409e3",
   "metadata": {
    "jp-MarkdownHeadingCollapsed": true,
    "tags": []
   },
   "source": [
    "### Train"
   ]
  },
  {
   "cell_type": "code",
   "execution_count": null,
   "id": "773be51d-1df0-4036-93d7-fc30bf7f8126",
   "metadata": {},
   "outputs": [],
   "source": [
    "# Latent vector `z' size\n",
    "nz = 20\n",
    "\n",
    "netD = Discriminator(train_tensor.shape[-1]).double().to(device)\n",
    "netG = Generator(nz, train_tensor.shape[-1]).double().to(device)"
   ]
  },
  {
   "cell_type": "code",
   "execution_count": null,
   "id": "6567c02b-9527-458c-a749-3cafeb21b226",
   "metadata": {},
   "outputs": [],
   "source": [
    "criterion = nn.BCELoss()\n",
    "\n",
    "fixed_noise = torch.randn(64, nz, device=device)\n",
    "\n",
    "real_label = 1\n",
    "fake_label = 0\n",
    "\n",
    "lr = 0.0002\n",
    "beta1 = 0.5\n",
    "\n",
    "optimizerD = optim.Adam(netD.parameters(), lr=lr, betas=(beta1, 0.999))\n",
    "optimizerG = optim.Adam(netG.parameters(), lr=lr, betas=(beta1, 0.999))"
   ]
  },
  {
   "cell_type": "code",
   "execution_count": null,
   "id": "453fde0b-0b16-48ea-8679-925325d0b6e3",
   "metadata": {},
   "outputs": [],
   "source": [
    "from torch.utils.data import DataLoader"
   ]
  },
  {
   "cell_type": "code",
   "execution_count": null,
   "id": "d3cc37d3-587e-42d8-bad6-b7243ae5683e",
   "metadata": {},
   "outputs": [],
   "source": [
    "batch_size = 128\n",
    "n_gpu = 1\n",
    "\n",
    "# dataloader = DataLoader(train_tensor, batch_size=batch_size,\n",
    "#                        num_workers=4*n_gpu, pin_memory=True)\n",
    "\n",
    "class DataIterator:\n",
    "    def __init__(self, dataset, batch_size, max_samples):\n",
    "        self.dataset = dataset\n",
    "        self.batch_size = batch_size\n",
    "        self.max_samples = max_samples\n",
    "        self.n = 0\n",
    "        self._len = dataset.shape[0]\n",
    "        \n",
    "    def __iter__(self):\n",
    "        self.n = 0\n",
    "        return self\n",
    "    \n",
    "    def __len__(self):\n",
    "        return self.max_samples\n",
    "    \n",
    "    def __next__(self):\n",
    "        if self.n <= self.max_samples:\n",
    "            # get and return samples\n",
    "            indices = np.random.choice(np.arange(self._len), self.batch_size, replace=False)\n",
    "            indices.sort()\n",
    "            self.n += 1\n",
    "            return self.dataset[indices]\n",
    "        else:\n",
    "            raise StopIteration"
   ]
  },
  {
   "cell_type": "code",
   "execution_count": null,
   "id": "e879351a-8aa1-4e2c-9771-9304653857f9",
   "metadata": {},
   "outputs": [
    {
     "name": "stdout",
     "output_type": "stream",
     "text": [
      "Starting Training Loop...\n",
      "[0/7][0/10000]\tLoss_D: 1.3940\tLoss_G: 0.7619\tD(x): 0.4654\tD(G(z)): 0.4668 / 0.4668\n",
      "[0/7][500/10000]\tLoss_D: 1.1498\tLoss_G: 0.9562\tD(x): 0.5521\tD(G(z)): 0.3903 / 0.3888\n",
      "[0/7][1000/10000]\tLoss_D: 1.0227\tLoss_G: 1.1545\tD(x): 0.5767\tD(G(z)): 0.3166 / 0.3163\n",
      "[0/7][1500/10000]\tLoss_D: 0.4962\tLoss_G: 1.6125\tD(x): 0.8156\tD(G(z)): 0.2086 / 0.2078\n",
      "[0/7][2000/10000]\tLoss_D: 0.4631\tLoss_G: 1.7826\tD(x): 0.8275\tD(G(z)): 0.1822 / 0.1801\n",
      "[0/7][2500/10000]\tLoss_D: 0.6276\tLoss_G: 1.8202\tD(x): 0.7610\tD(G(z)): 0.1766 / 0.1743\n",
      "[0/7][3000/10000]\tLoss_D: 0.6739\tLoss_G: 1.7147\tD(x): 0.7586\tD(G(z)): 0.1967 / 0.1949\n",
      "[0/7][3500/10000]\tLoss_D: 0.3777\tLoss_G: 1.9863\tD(x): 0.8671\tD(G(z)): 0.1495 / 0.1465\n",
      "[0/7][4000/10000]\tLoss_D: 0.5358\tLoss_G: 2.1522\tD(x): 0.8230\tD(G(z)): 0.1283 / 0.1267\n",
      "[0/7][4500/10000]\tLoss_D: 0.6270\tLoss_G: 2.1435\tD(x): 0.7891\tD(G(z)): 0.1273 / 0.1271\n",
      "[0/7][5000/10000]\tLoss_D: 0.4890\tLoss_G: 2.3326\tD(x): 0.8572\tD(G(z)): 0.1168 / 0.1165\n",
      "[0/7][5500/10000]\tLoss_D: 0.5424\tLoss_G: 2.2340\tD(x): 0.8174\tD(G(z)): 0.1186 / 0.1193\n",
      "[0/7][6000/10000]\tLoss_D: 0.5471\tLoss_G: 2.0161\tD(x): 0.8523\tD(G(z)): 0.1702 / 0.1679\n",
      "[0/7][6500/10000]\tLoss_D: 0.8360\tLoss_G: 1.6119\tD(x): 0.7237\tD(G(z)): 0.2336 / 0.2319\n",
      "[0/7][7000/10000]\tLoss_D: 0.7894\tLoss_G: 1.4528\tD(x): 0.7254\tD(G(z)): 0.2506 / 0.2511\n",
      "[0/7][7500/10000]\tLoss_D: 0.4572\tLoss_G: 1.6556\tD(x): 0.8683\tD(G(z)): 0.2191 / 0.2179\n",
      "[0/7][8000/10000]\tLoss_D: 0.4355\tLoss_G: 1.9645\tD(x): 0.8567\tD(G(z)): 0.1683 / 0.1690\n",
      "[0/7][8500/10000]\tLoss_D: 0.6413\tLoss_G: 2.0978\tD(x): 0.7715\tD(G(z)): 0.1471 / 0.1469\n",
      "[0/7][9000/10000]\tLoss_D: 0.6252\tLoss_G: 1.9035\tD(x): 0.7999\tD(G(z)): 0.1711 / 0.1701\n",
      "[0/7][9500/10000]\tLoss_D: 0.4385\tLoss_G: 2.1588\tD(x): 0.8490\tD(G(z)): 0.1282 / 0.1304\n",
      "[0/7][10000/10000]\tLoss_D: 0.3721\tLoss_G: 2.4212\tD(x): 0.8874\tD(G(z)): 0.1102 / 0.1088\n",
      "[1/7][0/10000]\tLoss_D: 0.4679\tLoss_G: 2.3384\tD(x): 0.8520\tD(G(z)): 0.1205 / 0.1192\n",
      "[1/7][500/10000]\tLoss_D: 0.7442\tLoss_G: 2.1532\tD(x): 0.7797\tD(G(z)): 0.1648 / 0.1645\n",
      "[1/7][1000/10000]\tLoss_D: 0.8549\tLoss_G: 1.8136\tD(x): 0.7216\tD(G(z)): 0.1937 / 0.1921\n",
      "[1/7][1500/10000]\tLoss_D: 0.7754\tLoss_G: 1.6143\tD(x): 0.7246\tD(G(z)): 0.2189 / 0.2212\n",
      "[1/7][2000/10000]\tLoss_D: 0.6134\tLoss_G: 1.5498\tD(x): 0.8099\tD(G(z)): 0.2398 / 0.2379\n",
      "[1/7][2500/10000]\tLoss_D: 0.6366\tLoss_G: 1.7482\tD(x): 0.8235\tD(G(z)): 0.2152 / 0.2139\n",
      "[1/7][3000/10000]\tLoss_D: 0.4354\tLoss_G: 2.0427\tD(x): 0.8590\tD(G(z)): 0.1560 / 0.1565\n",
      "[1/7][3500/10000]\tLoss_D: 0.7417\tLoss_G: 1.9748\tD(x): 0.7557\tD(G(z)): 0.1739 / 0.1762\n",
      "[1/7][4000/10000]\tLoss_D: 0.9423\tLoss_G: 1.7685\tD(x): 0.6826\tD(G(z)): 0.2053 / 0.2039\n",
      "[1/7][4500/10000]\tLoss_D: 0.8477\tLoss_G: 1.4966\tD(x): 0.7151\tD(G(z)): 0.2444 / 0.2423\n",
      "[1/7][5000/10000]\tLoss_D: 0.7102\tLoss_G: 1.4609\tD(x): 0.7588\tD(G(z)): 0.2428 / 0.2430\n",
      "[1/7][5500/10000]\tLoss_D: 0.4940\tLoss_G: 1.7013\tD(x): 0.8514\tD(G(z)): 0.1991 / 0.1952\n",
      "[1/7][6000/10000]\tLoss_D: 0.4499\tLoss_G: 1.8850\tD(x): 0.8577\tD(G(z)): 0.1706 / 0.1734\n",
      "[1/7][6500/10000]\tLoss_D: 0.4763\tLoss_G: 2.0730\tD(x): 0.8551\tD(G(z)): 0.1535 / 0.1529\n",
      "[1/7][7000/10000]\tLoss_D: 0.6505\tLoss_G: 1.9655\tD(x): 0.8219\tD(G(z)): 0.1868 / 0.1792\n",
      "[1/7][7500/10000]\tLoss_D: 0.9094\tLoss_G: 1.6482\tD(x): 0.6668\tD(G(z)): 0.2198 / 0.2239\n",
      "[1/7][8000/10000]\tLoss_D: 0.6917\tLoss_G: 1.5563\tD(x): 0.7588\tD(G(z)): 0.2338 / 0.2338\n",
      "[1/7][8500/10000]\tLoss_D: 0.6041\tLoss_G: 1.6420\tD(x): 0.8127\tD(G(z)): 0.2255 / 0.2254\n",
      "[1/7][9000/10000]\tLoss_D: 0.9406\tLoss_G: 1.6977\tD(x): 0.6887\tD(G(z)): 0.2175 / 0.2200\n",
      "[1/7][9500/10000]\tLoss_D: 0.8116\tLoss_G: 1.5274\tD(x): 0.7319\tD(G(z)): 0.2391 / 0.2424\n",
      "[1/7][10000/10000]\tLoss_D: 0.8044\tLoss_G: 1.5606\tD(x): 0.7196\tD(G(z)): 0.2306 / 0.2334\n",
      "[2/7][0/10000]\tLoss_D: 0.6674\tLoss_G: 1.5140\tD(x): 0.8006\tD(G(z)): 0.2476 / 0.2453\n",
      "[2/7][500/10000]\tLoss_D: 0.4954\tLoss_G: 1.7184\tD(x): 0.8578\tD(G(z)): 0.2099 / 0.2040\n",
      "[2/7][1000/10000]\tLoss_D: 0.4828\tLoss_G: 1.9168\tD(x): 0.8443\tD(G(z)): 0.1622 / 0.1689\n",
      "[2/7][1500/10000]\tLoss_D: 0.6440\tLoss_G: 2.0084\tD(x): 0.8001\tD(G(z)): 0.1782 / 0.1715\n",
      "[2/7][2000/10000]\tLoss_D: 0.6766\tLoss_G: 1.9634\tD(x): 0.7622\tD(G(z)): 0.1725 / 0.1779\n",
      "[2/7][2500/10000]\tLoss_D: 0.5416\tLoss_G: 1.8978\tD(x): 0.8170\tD(G(z)): 0.1734 / 0.1767\n",
      "[2/7][3000/10000]\tLoss_D: 0.8630\tLoss_G: 1.5346\tD(x): 0.7098\tD(G(z)): 0.2469 / 0.2477\n",
      "[2/7][3500/10000]\tLoss_D: 0.6889\tLoss_G: 1.5386\tD(x): 0.7671\tD(G(z)): 0.2368 / 0.2377\n",
      "[2/7][4000/10000]\tLoss_D: 0.8104\tLoss_G: 1.5777\tD(x): 0.7282\tD(G(z)): 0.2323 / 0.2311\n",
      "[2/7][4500/10000]\tLoss_D: 0.7777\tLoss_G: 1.4375\tD(x): 0.7299\tD(G(z)): 0.2577 / 0.2584\n",
      "[2/7][5000/10000]\tLoss_D: 0.7914\tLoss_G: 1.4744\tD(x): 0.7372\tD(G(z)): 0.2561 / 0.2515\n",
      "[2/7][5500/10000]\tLoss_D: 0.8719\tLoss_G: 1.4070\tD(x): 0.6893\tD(G(z)): 0.2580 / 0.2629\n",
      "[2/7][6000/10000]\tLoss_D: 0.8949\tLoss_G: 1.2967\tD(x): 0.7130\tD(G(z)): 0.3035 / 0.2927\n",
      "[2/7][6500/10000]\tLoss_D: 0.9694\tLoss_G: 1.2245\tD(x): 0.6728\tD(G(z)): 0.3198 / 0.3084\n",
      "[2/7][7000/10000]\tLoss_D: 1.0723\tLoss_G: 1.1355\tD(x): 0.6038\tD(G(z)): 0.3304 / 0.3291\n",
      "[2/7][7500/10000]\tLoss_D: 0.9487\tLoss_G: 1.0928\tD(x): 0.6800\tD(G(z)): 0.3435 / 0.3406\n",
      "[2/7][8000/10000]\tLoss_D: 0.7822\tLoss_G: 1.2108\tD(x): 0.7413\tD(G(z)): 0.3037 / 0.3067\n",
      "[2/7][8500/10000]\tLoss_D: 0.7745\tLoss_G: 1.3338\tD(x): 0.7269\tD(G(z)): 0.2695 / 0.2757\n",
      "[2/7][9000/10000]\tLoss_D: 0.8631\tLoss_G: 1.4947\tD(x): 0.7069\tD(G(z)): 0.2478 / 0.2492\n",
      "[2/7][9500/10000]\tLoss_D: 0.8977\tLoss_G: 1.2948\tD(x): 0.6966\tD(G(z)): 0.2929 / 0.2882\n",
      "[2/7][10000/10000]\tLoss_D: 0.7339\tLoss_G: 1.3531\tD(x): 0.7756\tD(G(z)): 0.2845 / 0.2803\n",
      "[3/7][0/10000]\tLoss_D: 0.7787\tLoss_G: 1.3366\tD(x): 0.7657\tD(G(z)): 0.3003 / 0.2839\n",
      "[3/7][500/10000]\tLoss_D: 0.6742\tLoss_G: 1.4988\tD(x): 0.7923\tD(G(z)): 0.2543 / 0.2451\n",
      "[3/7][1000/10000]\tLoss_D: 0.7853\tLoss_G: 1.6354\tD(x): 0.7288\tD(G(z)): 0.2180 / 0.2169\n",
      "[3/7][1500/10000]\tLoss_D: 0.8638\tLoss_G: 1.4446\tD(x): 0.6997\tD(G(z)): 0.2551 / 0.2583\n",
      "[3/7][2000/10000]\tLoss_D: 0.9798\tLoss_G: 1.2361\tD(x): 0.6493\tD(G(z)): 0.3001 / 0.2998\n",
      "[3/7][2500/10000]\tLoss_D: 1.1184\tLoss_G: 1.0463\tD(x): 0.6036\tD(G(z)): 0.3624 / 0.3607\n",
      "[3/7][3000/10000]\tLoss_D: 1.0562\tLoss_G: 1.0237\tD(x): 0.6180\tD(G(z)): 0.3634 / 0.3646\n",
      "[3/7][3500/10000]\tLoss_D: 0.9858\tLoss_G: 1.1821\tD(x): 0.6407\tD(G(z)): 0.3142 / 0.3166\n",
      "[3/7][4000/10000]\tLoss_D: 0.9990\tLoss_G: 1.1154\tD(x): 0.6474\tD(G(z)): 0.3369 / 0.3352\n",
      "[3/7][4500/10000]\tLoss_D: 0.8075\tLoss_G: 1.2635\tD(x): 0.7446\tD(G(z)): 0.3015 / 0.2976\n",
      "[3/7][5000/10000]\tLoss_D: 0.9130\tLoss_G: 1.1958\tD(x): 0.7237\tD(G(z)): 0.3323 / 0.3228\n",
      "[3/7][5500/10000]\tLoss_D: 0.9324\tLoss_G: 1.2733\tD(x): 0.6622\tD(G(z)): 0.2883 / 0.2905\n",
      "[3/7][6000/10000]\tLoss_D: 1.1061\tLoss_G: 1.1343\tD(x): 0.5855\tD(G(z)): 0.3278 / 0.3272\n",
      "[3/7][6500/10000]\tLoss_D: 0.9809\tLoss_G: 1.0551\tD(x): 0.6561\tD(G(z)): 0.3505 / 0.3506\n",
      "[3/7][7000/10000]\tLoss_D: 0.8611\tLoss_G: 1.2250\tD(x): 0.7136\tD(G(z)): 0.3014 / 0.3042\n",
      "[3/7][7500/10000]\tLoss_D: 0.8951\tLoss_G: 1.2607\tD(x): 0.6977\tD(G(z)): 0.2957 / 0.2943\n",
      "[3/7][8000/10000]\tLoss_D: 1.0646\tLoss_G: 1.2789\tD(x): 0.5988\tD(G(z)): 0.2864 / 0.2875\n",
      "[3/7][8500/10000]\tLoss_D: 1.1425\tLoss_G: 0.9724\tD(x): 0.6116\tD(G(z)): 0.3860 / 0.3856\n",
      "[3/7][9000/10000]\tLoss_D: 1.0952\tLoss_G: 0.9424\tD(x): 0.6130\tD(G(z)): 0.3920 / 0.3921\n",
      "[3/7][9500/10000]\tLoss_D: 0.9909\tLoss_G: 1.1641\tD(x): 0.6499\tD(G(z)): 0.3205 / 0.3236\n",
      "[3/7][10000/10000]\tLoss_D: 0.8499\tLoss_G: 1.1416\tD(x): 0.7179\tD(G(z)): 0.3285 / 0.3300\n",
      "[4/7][0/10000]\tLoss_D: 0.9276\tLoss_G: 1.1115\tD(x): 0.6949\tD(G(z)): 0.3453 / 0.3426\n",
      "[4/7][500/10000]\tLoss_D: 0.9377\tLoss_G: 1.2791\tD(x): 0.7065\tD(G(z)): 0.3099 / 0.3045\n",
      "[4/7][1000/10000]\tLoss_D: 0.8602\tLoss_G: 1.3425\tD(x): 0.7117\tD(G(z)): 0.2836 / 0.2785\n",
      "[4/7][1500/10000]\tLoss_D: 1.0408\tLoss_G: 1.3730\tD(x): 0.6092\tD(G(z)): 0.2650 / 0.2644\n",
      "[4/7][2000/10000]\tLoss_D: 1.1995\tLoss_G: 1.0349\tD(x): 0.5888\tD(G(z)): 0.3672 / 0.3654\n",
      "[4/7][2500/10000]\tLoss_D: 1.1566\tLoss_G: 0.9436\tD(x): 0.5812\tD(G(z)): 0.3933 / 0.3933\n",
      "[4/7][3000/10000]\tLoss_D: 1.0654\tLoss_G: 0.9555\tD(x): 0.6346\tD(G(z)): 0.3885 / 0.3877\n",
      "[4/7][3500/10000]\tLoss_D: 1.1000\tLoss_G: 0.9265\tD(x): 0.6069\tD(G(z)): 0.3961 / 0.3961\n",
      "[4/7][4000/10000]\tLoss_D: 1.1482\tLoss_G: 0.9077\tD(x): 0.6084\tD(G(z)): 0.4071 / 0.4071\n",
      "[4/7][4500/10000]\tLoss_D: 0.8416\tLoss_G: 1.0434\tD(x): 0.7395\tD(G(z)): 0.3552 / 0.3557\n",
      "[4/7][5000/10000]\tLoss_D: 0.7879\tLoss_G: 1.2214\tD(x): 0.7474\tD(G(z)): 0.3066 / 0.3077\n",
      "[4/7][5500/10000]\tLoss_D: 1.1297\tLoss_G: 1.2169\tD(x): 0.6231\tD(G(z)): 0.3278 / 0.3310\n",
      "[4/7][6000/10000]\tLoss_D: 1.0751\tLoss_G: 1.1581\tD(x): 0.6278\tD(G(z)): 0.3415 / 0.3401\n",
      "[4/7][6500/10000]\tLoss_D: 0.9840\tLoss_G: 1.1427\tD(x): 0.6461\tD(G(z)): 0.3329 / 0.3359\n",
      "[4/7][7000/10000]\tLoss_D: 1.0497\tLoss_G: 1.1275\tD(x): 0.5994\tD(G(z)): 0.3284 / 0.3355\n",
      "[4/7][7500/10000]\tLoss_D: 1.0326\tLoss_G: 1.0432\tD(x): 0.6472\tD(G(z)): 0.3615 / 0.3655\n",
      "[4/7][8000/10000]\tLoss_D: 1.0716\tLoss_G: 1.0392\tD(x): 0.6114\tD(G(z)): 0.3626 / 0.3656\n",
      "[4/7][8500/10000]\tLoss_D: 1.0301\tLoss_G: 1.0213\tD(x): 0.6433\tD(G(z)): 0.3715 / 0.3705\n",
      "[4/7][9000/10000]\tLoss_D: 0.9980\tLoss_G: 1.0769\tD(x): 0.6408\tD(G(z)): 0.3467 / 0.3495\n",
      "[4/7][9500/10000]\tLoss_D: 1.1024\tLoss_G: 1.0644\tD(x): 0.5927\tD(G(z)): 0.3500 / 0.3498\n",
      "[4/7][10000/10000]\tLoss_D: 1.1990\tLoss_G: 1.0263\tD(x): 0.5659\tD(G(z)): 0.3822 / 0.3690\n",
      "[5/7][0/10000]\tLoss_D: 1.0494\tLoss_G: 1.0770\tD(x): 0.6242\tD(G(z)): 0.3552 / 0.3515\n",
      "[5/7][500/10000]\tLoss_D: 0.9065\tLoss_G: 1.1391\tD(x): 0.6920\tD(G(z)): 0.3316 / 0.3313\n",
      "[5/7][1000/10000]\tLoss_D: 0.9290\tLoss_G: 1.2089\tD(x): 0.6743\tD(G(z)): 0.3076 / 0.3148\n",
      "[5/7][1500/10000]\tLoss_D: 0.9500\tLoss_G: 1.1968\tD(x): 0.6797\tD(G(z)): 0.3186 / 0.3216\n",
      "[5/7][2000/10000]\tLoss_D: 1.0452\tLoss_G: 1.1002\tD(x): 0.6363\tD(G(z)): 0.3501 / 0.3526\n",
      "[5/7][2500/10000]\tLoss_D: 1.0213\tLoss_G: 1.0502\tD(x): 0.6361\tD(G(z)): 0.3559 / 0.3587\n",
      "[5/7][3000/10000]\tLoss_D: 0.9810\tLoss_G: 1.0808\tD(x): 0.6514\tD(G(z)): 0.3466 / 0.3511\n",
      "[5/7][3500/10000]\tLoss_D: 1.0838\tLoss_G: 1.0587\tD(x): 0.6202\tD(G(z)): 0.3629 / 0.3599\n",
      "[5/7][4000/10000]\tLoss_D: 1.1280\tLoss_G: 1.0961\tD(x): 0.5809\tD(G(z)): 0.3428 / 0.3395\n",
      "[5/7][4500/10000]\tLoss_D: 1.1732\tLoss_G: 1.0838\tD(x): 0.5609\tD(G(z)): 0.3529 / 0.3467\n",
      "[5/7][5000/10000]\tLoss_D: 1.2141\tLoss_G: 1.0987\tD(x): 0.5474\tD(G(z)): 0.3428 / 0.3434\n",
      "[5/7][5500/10000]\tLoss_D: 1.1842\tLoss_G: 0.9712\tD(x): 0.5715\tD(G(z)): 0.3840 / 0.3828\n",
      "[5/7][6000/10000]\tLoss_D: 1.1877\tLoss_G: 0.9038\tD(x): 0.5640\tD(G(z)): 0.4068 / 0.4064\n",
      "[5/7][6500/10000]\tLoss_D: 1.0768\tLoss_G: 0.8453\tD(x): 0.6599\tD(G(z)): 0.4337 / 0.4353\n",
      "[5/7][7000/10000]\tLoss_D: 1.2006\tLoss_G: 1.0197\tD(x): 0.5346\tD(G(z)): 0.3644 / 0.3641\n",
      "[5/7][7500/10000]\tLoss_D: 1.2013\tLoss_G: 0.9076\tD(x): 0.5464\tD(G(z)): 0.4033 / 0.4035\n",
      "[5/7][8000/10000]\tLoss_D: 1.1524\tLoss_G: 0.8643\tD(x): 0.5935\tD(G(z)): 0.4220 / 0.4219\n",
      "[5/7][8500/10000]\tLoss_D: 0.8418\tLoss_G: 0.9474\tD(x): 0.7866\tD(G(z)): 0.4024 / 0.3953\n",
      "[5/7][9000/10000]\tLoss_D: 1.2282\tLoss_G: 0.9968\tD(x): 0.5165\tD(G(z)): 0.3704 / 0.3701\n",
      "[5/7][9500/10000]\tLoss_D: 1.1837\tLoss_G: 0.8688\tD(x): 0.5752\tD(G(z)): 0.4211 / 0.4209\n",
      "[5/7][10000/10000]\tLoss_D: 1.1925\tLoss_G: 0.8550\tD(x): 0.5735\tD(G(z)): 0.4266 / 0.4264\n",
      "[6/7][0/10000]\tLoss_D: 1.2094\tLoss_G: 0.8499\tD(x): 0.5660\tD(G(z)): 0.4294 / 0.4291\n",
      "[6/7][500/10000]\tLoss_D: 1.1469\tLoss_G: 0.8557\tD(x): 0.5980\tD(G(z)): 0.4250 / 0.4254\n",
      "[6/7][1000/10000]\tLoss_D: 1.1699\tLoss_G: 1.0991\tD(x): 0.5427\tD(G(z)): 0.3383 / 0.3376\n",
      "[6/7][1500/10000]\tLoss_D: 1.1776\tLoss_G: 0.8890\tD(x): 0.5698\tD(G(z)): 0.4112 / 0.4114\n",
      "[6/7][2000/10000]\tLoss_D: 1.1863\tLoss_G: 0.8358\tD(x): 0.5853\tD(G(z)): 0.4352 / 0.4347\n",
      "[6/7][2500/10000]\tLoss_D: 1.2562\tLoss_G: 0.8224\tD(x): 0.5387\tD(G(z)): 0.4402 / 0.4399\n",
      "[6/7][3000/10000]\tLoss_D: 0.9406\tLoss_G: 0.8940\tD(x): 0.7240\tD(G(z)): 0.4092 / 0.4152\n",
      "[6/7][3500/10000]\tLoss_D: 1.1590\tLoss_G: 0.9662\tD(x): 0.5649\tD(G(z)): 0.3814 / 0.3814\n",
      "[6/7][4000/10000]\tLoss_D: 1.2333\tLoss_G: 0.8535\tD(x): 0.5441\tD(G(z)): 0.4268 / 0.4266\n",
      "[6/7][4500/10000]\tLoss_D: 1.2240\tLoss_G: 0.8224\tD(x): 0.5674\tD(G(z)): 0.4418 / 0.4409\n",
      "[6/7][5000/10000]\tLoss_D: 1.2607\tLoss_G: 0.8252\tD(x): 0.5330\tD(G(z)): 0.4382 / 0.4383\n",
      "[6/7][5500/10000]\tLoss_D: 1.2067\tLoss_G: 0.8259\tD(x): 0.5675\tD(G(z)): 0.4378 / 0.4380\n",
      "[6/7][6000/10000]\tLoss_D: 1.1629\tLoss_G: 0.8267\tD(x): 0.5937\tD(G(z)): 0.4366 / 0.4383\n",
      "[6/7][6500/10000]\tLoss_D: 1.3030\tLoss_G: 1.0089\tD(x): 0.4693\tD(G(z)): 0.3664 / 0.3663\n",
      "[6/7][7000/10000]\tLoss_D: 1.2216\tLoss_G: 0.8387\tD(x): 0.5560\tD(G(z)): 0.4324 / 0.4325\n",
      "[6/7][7500/10000]\tLoss_D: 1.2416\tLoss_G: 0.8032\tD(x): 0.5574\tD(G(z)): 0.4489 / 0.4486\n",
      "[6/7][8000/10000]\tLoss_D: 1.2454\tLoss_G: 0.8098\tD(x): 0.5484\tD(G(z)): 0.4449 / 0.4450\n",
      "[6/7][8500/10000]\tLoss_D: 0.7575\tLoss_G: 0.9597\tD(x): 0.8194\tD(G(z)): 0.3854 / 0.3876\n",
      "[6/7][9000/10000]\tLoss_D: 1.2819\tLoss_G: 0.9234\tD(x): 0.5090\tD(G(z)): 0.4012 / 0.4009\n",
      "[6/7][9500/10000]\tLoss_D: 1.1946\tLoss_G: 0.8486\tD(x): 0.5704\tD(G(z)): 0.4283 / 0.4287\n",
      "[6/7][10000/10000]\tLoss_D: 1.1876\tLoss_G: 0.9634\tD(x): 0.5691\tD(G(z)): 0.3889 / 0.3884\n"
     ]
    }
   ],
   "source": [
    "G_losses = []\n",
    "D_losses = []\n",
    "iters = 0\n",
    "\n",
    "num_epochs = 7\n",
    "\n",
    "state_list = []\n",
    "fixed_noise_doub = fixed_noise.double()\n",
    "\n",
    "print(\"Starting Training Loop...\")\n",
    "# For each epoch\n",
    "dataloader = DataIterator(train_tensor, batch_size, 10000)\n",
    "\n",
    "for epoch in range(num_epochs):\n",
    "    # For each batch from training dataset\n",
    "    for i, data in enumerate(dataloader, 0):\n",
    "        ############################\n",
    "        # (1) Update D network: maximize log(D(x)) + log(1 - D(G(z)))\n",
    "        ###########################\n",
    "        ## Train with all-real batch\n",
    "        \n",
    "        label = torch.full((batch_size, ), real_label, dtype=torch.double, device=device)\n",
    "        # if i % 20 == 0:\n",
    "        netD.zero_grad()\n",
    "        real_cpu = data.to(device)\n",
    "        b_size = real_cpu.size(0)\n",
    "\n",
    "        label = torch.full((b_size, ), real_label, dtype=torch.double, device=device)\n",
    "        # Forward pass real batch through D\n",
    "        output = netD(real_cpu).view(-1)\n",
    "        # Calculate loss on all-real batch\n",
    "        errD_real = criterion(output, label)\n",
    "        # Calculate gradients for D in backward pass\n",
    "        errD_real.backward()\n",
    "        D_x = output.mean().item()\n",
    "            # D_x = -1.\n",
    "        \n",
    "        ## Train with all-fake batch\n",
    "        # Generate batch of latent vectors\n",
    "        noise = torch.randn(b_size, nz, device=device).double()\n",
    "        # Generate fake start state batch with G\n",
    "        fake = netG(noise)\n",
    "        label.fill_(fake_label)\n",
    "        \n",
    "        # if i % 20 == 0:\n",
    "        # Classify all fake batch with D\n",
    "        output = netD(fake.detach()).view(-1)\n",
    "        errD_fake = criterion(output, label)\n",
    "        # Calculate D's loss on the all-fake batch\n",
    "        errD_fake = criterion(output, label)\n",
    "        # Calculate the gradients for this batch\n",
    "        # added to previous gradients\n",
    "        errD_fake.backward()\n",
    "        D_G_z1 = output.mean().item()\n",
    "        # D_G_z1 = -1.\n",
    "        # Compute error of D as sum over the fake and the\n",
    "        # real batches\n",
    "        errD = errD_real + errD_fake\n",
    "        # Update D\n",
    "        optimizerD.step()\n",
    "        \n",
    "        if i % 4 != 0:\n",
    "            continue\n",
    "        ############################\n",
    "        # (2) Update G network: maximize log(D(G(z)))\n",
    "        ###########################\n",
    "        netG.zero_grad()\n",
    "        label.fill_(real_label) # fake labels are real for generator cost\n",
    "        # perform another forward pass of fake-batch through D\n",
    "        output = netD(fake).view(-1)\n",
    "        # Calculate G's loss based on this output\n",
    "        errG = criterion(output, label)\n",
    "        # Calculate gradients for G\n",
    "        errG.backward()\n",
    "        D_G_z2 = output.mean().item()\n",
    "        # Update G\n",
    "        optimizerG.step()\n",
    "        \n",
    "        # D_G_z2 = -1.\n",
    "        \n",
    "        # Output training stats\n",
    "        if i % 500 == 0:\n",
    "            print('[%d/%d][%d/%d]\\tLoss_D: %.4f\\tLoss_G: %.4f\\tD(x): %.4f\\tD(G(z)): %.4f / %.4f'\n",
    "                  % (epoch, num_epochs, i, len(dataloader),\n",
    "                     errD.item(), errG.item(), D_x, D_G_z1, D_G_z2))\n",
    "        # append losses\n",
    "        G_losses.append(errG.item())\n",
    "        D_losses.append(errD.item())\n",
    "        \n",
    "        # Check how generator is doing by saving G's output\n",
    "#         if (iters % 500 == 0) or ((epoch == num_epochs-1) and\n",
    "#                                  (i == len(dataloader)-1)):\n",
    "#             with torch.no_grad():\n",
    "#                 fake = netG(fixed_noise_doub).detach().cpu()\n",
    "#             state_list.append(fake)\n",
    "        \n",
    "        iters += 1\n"
   ]
  },
  {
   "cell_type": "code",
   "execution_count": null,
   "id": "894d7215-73a7-4e35-a5f3-f1ffdd7e17f0",
   "metadata": {},
   "outputs": [
    {
     "data": {
      "image/png": "[encoded data removed]",
      "text/plain": [
       "<Figure size 1000x500 with 1 Axes>"
      ]
     },
     "metadata": {},
     "output_type": "display_data"
    }
   ],
   "source": [
    "plt.figure(figsize=(10,5))\n",
    "plt.title(\"Generator and Discriminator Loss During Training\")\n",
    "plt.plot(G_losses,label=\"G\")\n",
    "plt.plot(D_losses,label=\"D\")\n",
    "plt.xlabel(\"iterations\")\n",
    "plt.ylabel(\"Loss\")\n",
    "plt.legend()\n",
    "plt.savefig(\"phase1_gan.png\")\n",
    "plt.show()"
   ]
  },
  {
   "cell_type": "code",
   "execution_count": null,
   "id": "d800eb13-4915-4293-9575-a970f92a0113",
   "metadata": {},
   "outputs": [
    {
     "name": "stdout",
     "output_type": "stream",
     "text": [
      "tensor([[ 0.9425,  1.5246,  0.8545, -0.4205, -0.0994, -0.3232, -0.3216,  1.3177,\n",
      "          1.1614,  0.0021, -0.7887, -0.2403,  0.5203],\n",
      "        [ 0.7892,  0.6334,  0.3159, -0.5097,  1.3117, -0.2423, -0.9948,  1.0167,\n",
      "          0.3572, -0.1104, -0.2955, -0.0803, -0.2347]], device='cuda:0',\n",
      "       dtype=torch.float64)\n",
      "tensor([[0.3832],\n",
      "        [0.4237]], device='cuda:0', dtype=torch.float64)\n"
     ]
    }
   ],
   "source": [
    "with torch.no_grad():\n",
    "    test = netG(fixed_noise.double()[:2])\n",
    "    test_truth = netD(test)\n",
    "    \n",
    "    print(test)\n",
    "    print(test_truth)\n",
    "\n",
    "# test_df = pd.DataFrame(data=test.cpu().numpy(), columns=final_df.columns)\n",
    "# final_df[:2]"
   ]
  },
  {
   "cell_type": "code",
   "execution_count": null,
   "id": "3f3609d8-88ec-441d-b121-b7902bb046cb",
   "metadata": {},
   "outputs": [
    {
     "data": {
      "text/plain": [
       "Index(['bytes_recv', 'bytes_sent', 'concurrency', 'cpu_frequency_current',\n",
       "       'freeMemory', 'latency', 'memory', 'packets_recv', 'packets_sent',\n",
       "       'parallelism', 'rtt', 'throughput', 'totalBytesSent'],\n",
       "      dtype='object')"
      ]
     },
     "execution_count": 281,
     "metadata": {},
     "output_type": "execute_result"
    }
   ],
   "source": [
    "final_df.columns"
   ]
  },
  {
   "cell_type": "markdown",
   "id": "f7dea119-6516-4a02-ba55-c9d59dda9f2e",
   "metadata": {
    "jp-MarkdownHeadingCollapsed": true,
    "tags": []
   },
   "source": [
    "### Test"
   ]
  },
  {
   "cell_type": "code",
   "execution_count": null,
   "id": "fba209ff-3fd4-4c01-b059-151c3e37840b",
   "metadata": {},
   "outputs": [
    {
     "data": {
      "text/plain": [
       "tensor(0.5695, device='cuda:0', dtype=torch.float64)"
      ]
     },
     "execution_count": 295,
     "metadata": {},
     "output_type": "execute_result"
    }
   ],
   "source": [
    "### See how discriminator performs\n",
    "\n",
    "cuda_test_tensor = test_tensor.double().to(device)\n",
    "\n",
    "with torch.no_grad():\n",
    "    disc_test = netD(cuda_test_tensor)\n",
    "\n",
    "torch.mean(disc_test)"
   ]
  },
  {
   "cell_type": "code",
   "execution_count": null,
   "id": "5f6cea7d-6714-4cad-ac66-89bcd1e9a1ed",
   "metadata": {},
   "outputs": [
    {
     "data": {
      "text/plain": [
       "tensor(0.5934, device='cuda:0', dtype=torch.float64)"
      ]
     },
     "execution_count": 296,
     "metadata": {},
     "output_type": "execute_result"
    }
   ],
   "source": [
    "cuda_train_tensor = train_tensor.double().to(device)\n",
    "\n",
    "with torch.no_grad():\n",
    "    disc_test_2 = netD(cuda_train_tensor)\n",
    "    \n",
    "torch.mean(disc_test_2)"
   ]
  },
  {
   "cell_type": "markdown",
   "id": "09beb5d5-712a-4e6c-9850-fc059015022d",
   "metadata": {
    "tags": []
   },
   "source": [
    "## Phase 2: LSTM->FC GAN"
   ]
  },
  {
   "cell_type": "markdown",
   "id": "82750e0d-3c6b-46e1-aaa0-e9d983131264",
   "metadata": {
    "jp-MarkdownHeadingCollapsed": true,
    "tags": []
   },
   "source": [
    "### Classes"
   ]
  },
  {
   "cell_type": "code",
   "execution_count": null,
   "id": "861eef97-a74d-464d-9908-a2f16c95c63c",
   "metadata": {},
   "outputs": [
    {
     "data": {
      "text/plain": [
       "'cuda'"
      ]
     },
     "execution_count": 297,
     "metadata": {},
     "output_type": "execute_result"
    }
   ],
   "source": [
    "device"
   ]
  },
  {
   "cell_type": "code",
   "execution_count": null,
   "id": "0dbdbead-53b6-4d48-ac3c-f8a88fc0409d",
   "metadata": {},
   "outputs": [],
   "source": [
    "## Convert dataframes to tensors\n",
    "train_phase2 = [torch.from_numpy(df.to_numpy()).double()\n",
    "                for df in train_set]\n",
    "\n",
    "validate_phase2 = [torch.from_numpy(df.to_numpy()).double()\n",
    "                   for df in validate_set]\n",
    "\n",
    "test_phase2 = [torch.from_numpy(df.to_numpy()).double()\n",
    "               for df in test_set]\n"
   ]
  },
  {
   "cell_type": "code",
   "execution_count": 377,
   "id": "cdf67cf7-96ff-45e2-95f4-7f42d1b2a26a",
   "metadata": {},
   "outputs": [],
   "source": [
    "# Try Stacked RNNs\n",
    "class BigDiscriminator(nn.Module):\n",
    "    def __init__(self, in_size, out_size=1, batch_first=False):\n",
    "        super(BigDiscriminator, self).__init__()\n",
    "        # Stacked GRU - 2 Layers\n",
    "        self.GRU = nn.GRU(in_size, in_size, 2, batch_first=batch_first)\n",
    "        \n",
    "        self.FC = nn.Sequential(\n",
    "            \n",
    "            nn.Linear(in_size, 13),\n",
    "            nn.Tanh(),\n",
    "            \n",
    "            nn.Linear(13, 10),\n",
    "            nn.Tanh(),\n",
    "            \n",
    "            nn.Linear(10, 5),\n",
    "            nn.Tanh(),\n",
    "            \n",
    "            nn.Linear(5, 3),\n",
    "            nn.Tanh(),\n",
    "            \n",
    "            nn.Linear(3, out_size),\n",
    "            nn.Sigmoid()\n",
    "        )\n",
    "\n",
    "    def forward(self, inp, h0):\n",
    "        outputs, _ = self.GRU(inp, h0)\n",
    "        return self.FC(outputs[-1])\n"
   ]
  },
  {
   "cell_type": "code",
   "execution_count": 350,
   "id": "c82cc963-539c-484b-852e-5d53d1a223ab",
   "metadata": {},
   "outputs": [
    {
     "name": "stdout",
     "output_type": "stream",
     "text": [
      "tensor([0.5907])\n"
     ]
    }
   ],
   "source": [
    "testBD = BigDiscriminator(10)\n",
    "\n",
    "test_input = torch.randn(4, 10)\n",
    "test_h0 = torch.randn(2, 10)\n",
    "\n",
    "with torch.no_grad():\n",
    "    output = testBD(test_input, test_h0)\n",
    "print(output)"
   ]
  },
  {
   "cell_type": "code",
   "execution_count": null,
   "id": "34d9292f-1322-4f86-901e-8b0205beead8",
   "metadata": {},
   "outputs": [
    {
     "data": {
      "text/plain": [
       "tensor([[ 0.0733,  0.0374,  1.2083, -0.7925,  0.2725,  1.2226,  1.2073, -3.6517,\n",
       "          0.4342,  0.6878],\n",
       "        [ 0.5287, -1.3232,  0.6916,  0.7068, -0.8435,  1.5884,  0.4511,  1.2193,\n",
       "          0.2776,  1.0604],\n",
       "        [ 1.8943,  1.6150,  1.4278,  0.4761, -0.9244, -1.4450, -0.2795,  0.7001,\n",
       "          0.5387, -1.5808],\n",
       "        [ 2.8133, -0.6235,  0.2511, -0.5107, -0.2686, -1.0610,  0.0094, -0.8849,\n",
       "          0.9055,  0.0369]])"
      ]
     },
     "execution_count": 315,
     "metadata": {},
     "output_type": "execute_result"
    }
   ],
   "source": [
    "test_input"
   ]
  },
  {
   "cell_type": "code",
   "execution_count": 351,
   "id": "2cc1ef65-423d-4aec-b413-bd3e784a2ea4",
   "metadata": {},
   "outputs": [],
   "source": [
    "# Try Stacked RNNs\n",
    "class BigGenerator(nn.Module):\n",
    "    def __init__(self, in_size, out_size, \n",
    "                 stack_size=3, init_cell_state=None,\n",
    "                batch_first=False):\n",
    "        super(BigGenerator, self).__init__()\n",
    "        self.LSTM = nn.LSTM(in_size, out_size, stack_size,\n",
    "                           batch_first=batch_first)\n",
    "        if init_cell_state is None:\n",
    "            self.c0 = torch.zeros(stack_size, out_size).float()\n",
    "        else:\n",
    "            self.c0 = init_cell_state\n",
    "        \n",
    "    def forward(self, inp, h0):\n",
    "        outputs, _ = self.LSTM(inp, (h0, self.c0))\n",
    "        return outputs\n",
    "    \n",
    "    def next_state(self, action, state_in, c_in):\n",
    "        with torch.no_grad():\n",
    "            outputs, _ = self.LSTM(action, (state_in, c_in))\n",
    "            return outputs\n"
   ]
  },
  {
   "cell_type": "code",
   "execution_count": 355,
   "id": "9b8fcc53-12d6-469f-a9b9-6103bd38ae6d",
   "metadata": {},
   "outputs": [
    {
     "name": "stdout",
     "output_type": "stream",
     "text": [
      "BigGenerator(\n",
      "  (LSTM): LSTM(2, 13, num_layers=3)\n",
      ")\n"
     ]
    }
   ],
   "source": [
    "print(testBG)"
   ]
  },
  {
   "cell_type": "markdown",
   "id": "d8954f91-013b-4fca-805e-0b44e6062f2a",
   "metadata": {},
   "source": [
    "### Train"
   ]
  },
  {
   "cell_type": "code",
   "execution_count": 493,
   "id": "125dadcd-5baf-4fdf-b7e6-81d68bedc73a",
   "metadata": {},
   "outputs": [],
   "source": [
    "with torch.no_grad():\n",
    "    test_h0 = netG(fixed_noise[0].double())\n",
    "\n",
    "test_h0 = test_h0.cpu()"
   ]
  },
  {
   "cell_type": "code",
   "execution_count": null,
   "id": "c9f63ac1-ea52-4eb9-918a-ca13f7b32f06",
   "metadata": {},
   "outputs": [],
   "source": [
    "test_h0.repeat(3, 1)"
   ]
  },
  {
   "cell_type": "code",
   "execution_count": 495,
   "id": "2e273b38-10ce-4dce-9a5c-52176e10c371",
   "metadata": {
    "tags": []
   },
   "outputs": [
    {
     "name": "stdout",
     "output_type": "stream",
     "text": [
      "torch.Size([5, 4, 13])\n",
      "tensor([[[ 6.5830e-02, -3.8858e-02, -6.0844e-02,  4.2846e-02, -4.7745e-02,\n",
      "           1.8838e-01, -3.0601e-02,  4.4892e-02,  1.3539e-01, -1.3884e-01,\n",
      "           1.5241e-01,  1.5447e-01, -2.9597e-02],\n",
      "         [ 6.4060e-02, -3.9290e-02, -6.1063e-02,  4.2847e-02, -4.8327e-02,\n",
      "           1.8851e-01, -3.1217e-02,  4.4020e-02,  1.3615e-01, -1.3994e-01,\n",
      "           1.5288e-01,  1.5431e-01, -2.9150e-02],\n",
      "         [ 6.6583e-02, -3.8596e-02, -6.0935e-02,  4.2808e-02, -4.7799e-02,\n",
      "           1.8852e-01, -3.0406e-02,  4.5143e-02,  1.3503e-01, -1.3839e-01,\n",
      "           1.5257e-01,  1.5452e-01, -2.9793e-02],\n",
      "         [ 6.6583e-02, -3.8596e-02, -6.0935e-02,  4.2808e-02, -4.7799e-02,\n",
      "           1.8852e-01, -3.0406e-02,  4.5143e-02,  1.3503e-01, -1.3839e-01,\n",
      "           1.5257e-01,  1.5452e-01, -2.9793e-02]],\n",
      "\n",
      "        [[ 2.7253e-02, -4.1552e-02, -4.9704e-02,  5.4072e-02, -7.3426e-02,\n",
      "           8.3302e-02, -1.0499e-02, -2.3674e-02,  9.1862e-02,  8.4675e-03,\n",
      "           1.2539e-01,  4.3652e-02, -7.1387e-02],\n",
      "         [ 2.3793e-02, -4.2671e-02, -4.9675e-02,  5.5580e-02, -7.4533e-02,\n",
      "           8.2545e-02, -1.2727e-02, -2.6303e-02,  9.4545e-02,  4.2241e-03,\n",
      "           1.2650e-01,  4.2476e-02, -6.9105e-02],\n",
      "         [ 2.9010e-02, -4.1506e-02, -4.9544e-02,  5.3463e-02, -7.3364e-02,\n",
      "           8.4043e-02, -9.5204e-03, -2.3384e-02,  9.1975e-02,  9.8118e-03,\n",
      "           1.2524e-01,  4.3671e-02, -7.1891e-02],\n",
      "         [ 2.9010e-02, -4.1506e-02, -4.9544e-02,  5.3463e-02, -7.3364e-02,\n",
      "           8.4043e-02, -9.5204e-03, -2.3384e-02,  9.1975e-02,  9.8118e-03,\n",
      "           1.2524e-01,  4.3671e-02, -7.1891e-02]],\n",
      "\n",
      "        [[ 7.3070e-03, -5.6409e-02, -5.3455e-02,  5.6677e-02, -9.3718e-02,\n",
      "           5.5671e-03, -1.4611e-03, -5.8516e-02,  8.5389e-02,  6.5400e-02,\n",
      "           1.2210e-01,  1.4034e-02, -8.1892e-02],\n",
      "         [ 3.5720e-03, -5.6522e-02, -5.3858e-02,  5.8947e-02, -9.4191e-02,\n",
      "           4.0547e-03, -3.4146e-03, -6.0813e-02,  8.7587e-02,  6.0104e-02,\n",
      "           1.2308e-01,  1.3357e-02, -8.1073e-02],\n",
      "         [ 9.5734e-03, -5.6778e-02, -5.2796e-02,  5.5550e-02, -9.3348e-02,\n",
      "           6.7817e-03, -2.7801e-05, -5.8972e-02,  8.6543e-02,  6.7422e-02,\n",
      "           1.2171e-01,  1.4004e-02, -8.2255e-02],\n",
      "         [ 8.2642e-03, -5.7036e-02, -5.3162e-02,  5.5980e-02, -9.3659e-02,\n",
      "           6.2514e-03, -1.0278e-03, -5.9569e-02,  8.6870e-02,  6.6009e-02,\n",
      "           1.2199e-01,  1.3748e-02, -8.1387e-02]],\n",
      "\n",
      "        [[ 4.6432e-03, -7.0124e-02, -6.1077e-02,  6.0209e-02, -1.0812e-01,\n",
      "          -5.1368e-02, -8.6160e-04, -7.2711e-02,  8.6784e-02,  9.3630e-02,\n",
      "           1.1560e-01, -2.1986e-03, -8.1712e-02],\n",
      "         [ 7.5141e-04, -6.9763e-02, -6.2047e-02,  6.2722e-02, -1.0877e-01,\n",
      "          -5.3008e-02, -3.4287e-03, -7.4631e-02,  8.8103e-02,  8.7461e-02,\n",
      "           1.1648e-01, -2.5904e-03, -8.1012e-02],\n",
      "         [ 5.2269e-03, -7.0797e-02, -6.1092e-02,  5.9570e-02, -1.0847e-01,\n",
      "          -5.0259e-02, -1.4725e-03, -7.3939e-02,  8.8129e-02,  9.3999e-02,\n",
      "           1.1586e-01, -2.0832e-03, -8.0718e-02],\n",
      "         [ 4.5007e-03, -7.1306e-02, -6.1232e-02,  6.0494e-02, -1.0854e-01,\n",
      "          -5.1419e-02, -1.8335e-03, -7.4962e-02,  8.9561e-02,  9.2213e-02,\n",
      "           1.1580e-01, -2.7443e-03, -7.9676e-02]],\n",
      "\n",
      "        [[ 1.1043e-02, -8.0236e-02, -6.8268e-02,  6.4164e-02, -1.1923e-01,\n",
      "          -8.7778e-02, -4.0797e-03, -7.4983e-02,  9.0589e-02,  1.0785e-01,\n",
      "           1.1066e-01, -1.1974e-02, -7.8054e-02],\n",
      "         [ 6.8590e-03, -7.9383e-02, -6.8999e-02,  6.6222e-02, -1.1905e-01,\n",
      "          -8.9705e-02, -5.5513e-03, -7.7171e-02,  9.1481e-02,  1.0178e-01,\n",
      "           1.1085e-01, -1.2307e-02, -7.8673e-02],\n",
      "         [ 1.0385e-02, -8.1913e-02, -6.8109e-02,  6.4941e-02, -1.1907e-01,\n",
      "          -8.8455e-02, -4.8953e-03, -7.9329e-02,  9.5079e-02,  1.0554e-01,\n",
      "           1.1003e-01, -1.2848e-02, -7.5280e-02],\n",
      "         [ 1.0264e-02, -8.2418e-02, -6.8347e-02,  6.5906e-02, -1.1898e-01,\n",
      "          -8.9689e-02, -5.1145e-03, -8.0334e-02,  9.6911e-02,  1.0381e-01,\n",
      "           1.0978e-01, -1.3440e-02, -7.4271e-02]]])\n"
     ]
    }
   ],
   "source": [
    "test_c0 = torch.zeros(3, 4, 13).float()\n",
    "testBG = BigGenerator(2, 13, init_cell_state=test_c0)\n",
    "test_actions = torch.randint(-1, 2, (5, 4, 2)).float()\n",
    "\n",
    "test_H = test_h0.repeat(3, 4, 1).float()\n",
    "\n",
    "with torch.no_grad():\n",
    "    outputs = testBG(test_actions, test_H)\n",
    "print(outputs.shape)\n",
    "print(outputs)"
   ]
  },
  {
   "cell_type": "code",
   "execution_count": null,
   "id": "bd7d2ee1-50c4-4a87-aed0-89e00ba9d0b5",
   "metadata": {},
   "outputs": [],
   "source": [
    "validate_phase2[0]"
   ]
  },
  {
   "cell_type": "code",
   "execution_count": 366,
   "id": "3d5ee3f4-ef32-4f91-a52f-0a55a012abc8",
   "metadata": {},
   "outputs": [],
   "source": [
    "_ = rnn.pad_sequence(validate_phase2, batch_first=True)"
   ]
  },
  {
   "cell_type": "code",
   "execution_count": 411,
   "id": "f8a82003-8409-4d80-8702-834ca0216cf1",
   "metadata": {},
   "outputs": [
    {
     "name": "stdout",
     "output_type": "stream",
     "text": [
      "torch.float32\n",
      "torch.float32\n",
      "tensor([0.4260, 0.4240, 0.4264])\n"
     ]
    }
   ],
   "source": [
    "testBD = BigDiscriminator(13, batch_first=False)\n",
    "\n",
    "test_h0 = torch.zeros(2, 3, 13).float()\n",
    "test_input = rnn.pad_sequence(validate_phase2[:3], batch_first=False).float()\n",
    "\n",
    "print(test_input.dtype)\n",
    "print(test_h0.dtype)\n",
    "\n",
    "with torch.no_grad():\n",
    "    output = testBD(test_input, test_h0)\n",
    "\n",
    "print(output.view(-1))"
   ]
  },
  {
   "cell_type": "code",
   "execution_count": 388,
   "id": "da386165-494b-4ff2-9a6e-d746300b70ba",
   "metadata": {},
   "outputs": [],
   "source": [
    "torch.save(netG.state_dict(), 'netG.model')"
   ]
  },
  {
   "cell_type": "code",
   "execution_count": 386,
   "id": "d8666e15-dd63-43a8-b5e6-999a34099582",
   "metadata": {},
   "outputs": [
    {
     "name": "stdout",
     "output_type": "stream",
     "text": [
      "torch.Size([32, 1000, 13])\n"
     ]
    }
   ],
   "source": [
    "train_tensor = rnn.pad_sequence(train_phase2, batch_first=False)\n",
    "print(train_tensor.shape)"
   ]
  },
  {
   "cell_type": "code",
   "execution_count": 389,
   "id": "087e0aa1-2444-4520-90d3-6647481e0780",
   "metadata": {},
   "outputs": [
    {
     "name": "stdout",
     "output_type": "stream",
     "text": [
      "torch.float32\n",
      "32\n"
     ]
    }
   ],
   "source": [
    "train_tensor = train_tensor.float()\n",
    "print(train_tensor.dtype)\n",
    "print(train_tensor.shape[0])"
   ]
  },
  {
   "cell_type": "code",
   "execution_count": 478,
   "id": "fb58f509-c2e8-4b21-99dc-66f79d724a96",
   "metadata": {},
   "outputs": [],
   "source": [
    "batch_size = 128\n",
    "n_gpu = 1\n",
    "\n",
    "# dataloader = DataLoader(train_tensor, batch_size=batch_size,\n",
    "#                        num_workers=4*n_gpu, pin_memory=True)\n",
    "\n",
    "class DataIterator2:\n",
    "    def __init__(self, dataset, batch_size, max_samples):\n",
    "        self.dataset = dataset\n",
    "        self.batch_size = batch_size\n",
    "        self.max_samples = max_samples\n",
    "        self.n = 0\n",
    "        self._len = dataset.shape[1]\n",
    "        \n",
    "    def __iter__(self):\n",
    "        self.n = 0\n",
    "        return self\n",
    "    \n",
    "    def __len__(self):\n",
    "        return self.max_samples\n",
    "    \n",
    "    def __next__(self):\n",
    "        if self.n <= self.max_samples:\n",
    "            # get and return samples\n",
    "            indices = np.random.choice(np.arange(self._len), self.batch_size, replace=False)\n",
    "            indices.sort()\n",
    "            self.n += 1\n",
    "            return self.dataset[:, indices, :]\n",
    "        else:\n",
    "            raise StopIteration"
   ]
  },
  {
   "cell_type": "code",
   "execution_count": 496,
   "id": "3da6a0cc-19e0-457e-9bc1-dbce61f04291",
   "metadata": {},
   "outputs": [],
   "source": [
    "# Sequence length is 32 from previous cell\n",
    "seq_len = train_tensor.shape[0]\n",
    "action_size = 2\n",
    "gen_stack_size = 3\n",
    "\n",
    "zero_c0 = torch.zeros(3, batch_size, 13, device=device).float()\n",
    "\n",
    "netBD = BigDiscriminator(train_tensor.shape[-1]).to(device)\n",
    "netBG = BigGenerator(action_size, train_tensor.shape[-1], init_cell_state=zero_c0).to(device)"
   ]
  },
  {
   "cell_type": "code",
   "execution_count": 497,
   "id": "a0147421-b480-44ce-9c86-674f10fe7fbb",
   "metadata": {},
   "outputs": [],
   "source": [
    "criterion = nn.BCELoss()\n",
    "\n",
    "# fixed_noise = torch.randn(64, nz, device=device)\n",
    "\n",
    "real_label = 1\n",
    "fake_label = 0\n",
    "\n",
    "lr = 0.0002\n",
    "beta1 = 0.5\n",
    "\n",
    "zero_h0 = torch.zeros(2, batch_size, 13, device=device).float()\n",
    "\n",
    "optimizerBD = optim.Adam(netBD.parameters(), lr=lr, betas=(beta1, 0.999))\n",
    "optimizerBG = optim.Adam(netBG.parameters(), lr=lr, betas=(beta1, 0.999))"
   ]
  },
  {
   "cell_type": "code",
   "execution_count": 408,
   "id": "33f7495d-eb3c-4885-8d87-907784f9dfa5",
   "metadata": {},
   "outputs": [
    {
     "name": "stdout",
     "output_type": "stream",
     "text": [
      "torch.Size([128, 20])\n",
      "Generator(\n",
      "  (main): Sequential(\n",
      "    (0): Linear(in_features=20, out_features=18, bias=True)\n",
      "    (1): Tanh()\n",
      "    (2): Linear(in_features=18, out_features=17, bias=True)\n",
      "    (3): Tanh()\n",
      "    (4): Linear(in_features=17, out_features=16, bias=True)\n",
      "    (5): Tanh()\n",
      "    (6): Linear(in_features=16, out_features=13, bias=True)\n",
      "  )\n",
      ")\n"
     ]
    },
    {
     "data": {
      "text/plain": [
       "torch.Size([3, 128, 13])"
      ]
     },
     "execution_count": 408,
     "metadata": {},
     "output_type": "execute_result"
    }
   ],
   "source": [
    "noise = torch.randn(b_size, nz, device=device).double()\n",
    "print(noise.shape)\n",
    "print(netG)\n",
    "# Generate fake start state batch with G\n",
    "with torch.no_grad():\n",
    "    fake_start = netG(noise)\n",
    "    \n",
    "fake_start.repeat(3, 1, 1).shape"
   ]
  },
  {
   "cell_type": "code",
   "execution_count": 498,
   "id": "4a78ed20-898a-44d2-8939-cd4fed9156b7",
   "metadata": {},
   "outputs": [
    {
     "name": "stdout",
     "output_type": "stream",
     "text": [
      "Starting Training Loop...\n",
      "[0/4][0/10000]\tLoss_D: 1.4087\tLoss_G: 0.5560\tD(x): 0.5737\tD(G(z)): 0.5739 / 0.5735\n",
      "[0/4][500/10000]\tLoss_D: 1.3868\tLoss_G: 0.6871\tD(x): 0.5030\tD(G(z)): 0.5032 / 0.5031\n",
      "[!!!] Intensifying training...\n",
      "[0/4][1000/10000]\tLoss_D: 0.5275\tLoss_G: 1.3039\tD(x): 0.8104\tD(G(z)): 0.2719 / 0.2715\n",
      "[0/4][1500/10000]\tLoss_D: 0.3196\tLoss_G: 1.7747\tD(x): 0.8748\tD(G(z)): 0.1697 / 0.1695\n",
      "[0/4][2000/10000]\tLoss_D: 0.2333\tLoss_G: 2.0936\tD(x): 0.9033\tD(G(z)): 0.1233 / 0.1232\n"
     ]
    },
    {
     "ename": "KeyboardInterrupt",
     "evalue": "",
     "output_type": "error",
     "traceback": [
      "\u001b[0;31m---------------------------------------------------------------------------\u001b[0m",
      "\u001b[0;31mKeyboardInterrupt\u001b[0m                         Traceback (most recent call last)",
      "Cell \u001b[0;32mIn [498], line 132\u001b[0m\n\u001b[1;32m    129\u001b[0m     fake_start \u001b[38;5;241m=\u001b[39m fake_start\u001b[38;5;241m.\u001b[39mrepeat(gen_stack_size, \u001b[38;5;241m1\u001b[39m, \u001b[38;5;241m1\u001b[39m)\n\u001b[1;32m    131\u001b[0m fake_actions \u001b[38;5;241m=\u001b[39m torch\u001b[38;5;241m.\u001b[39mrandint(\u001b[38;5;241m-\u001b[39m\u001b[38;5;241m1\u001b[39m, \u001b[38;5;241m2\u001b[39m, (\u001b[38;5;241m10\u001b[39m, batch_size, action_size), device\u001b[38;5;241m=\u001b[39mdevice)\u001b[38;5;241m.\u001b[39mfloat()\n\u001b[0;32m--> 132\u001b[0m fake_states \u001b[38;5;241m=\u001b[39m \u001b[43mnetBG\u001b[49m\u001b[43m(\u001b[49m\u001b[43mfake_actions\u001b[49m\u001b[43m,\u001b[49m\u001b[43m \u001b[49m\u001b[43mfake_start\u001b[49m\u001b[43m)\u001b[49m\n\u001b[1;32m    134\u001b[0m \u001b[38;5;66;03m# perform another forward pass of fake-batch through D\u001b[39;00m\n\u001b[1;32m    135\u001b[0m output \u001b[38;5;241m=\u001b[39m netBD(fake_states, zero_h0)\u001b[38;5;241m.\u001b[39mview(\u001b[38;5;241m-\u001b[39m\u001b[38;5;241m1\u001b[39m)\n",
      "File \u001b[0;32m~/Desktop/cse616/venv/lib/python3.10/site-packages/torch/nn/modules/module.py:1190\u001b[0m, in \u001b[0;36mModule._call_impl\u001b[0;34m(self, *input, **kwargs)\u001b[0m\n\u001b[1;32m   1186\u001b[0m \u001b[38;5;66;03m# If we don't have any hooks, we want to skip the rest of the logic in\u001b[39;00m\n\u001b[1;32m   1187\u001b[0m \u001b[38;5;66;03m# this function, and just call forward.\u001b[39;00m\n\u001b[1;32m   1188\u001b[0m \u001b[38;5;28;01mif\u001b[39;00m \u001b[38;5;129;01mnot\u001b[39;00m (\u001b[38;5;28mself\u001b[39m\u001b[38;5;241m.\u001b[39m_backward_hooks \u001b[38;5;129;01mor\u001b[39;00m \u001b[38;5;28mself\u001b[39m\u001b[38;5;241m.\u001b[39m_forward_hooks \u001b[38;5;129;01mor\u001b[39;00m \u001b[38;5;28mself\u001b[39m\u001b[38;5;241m.\u001b[39m_forward_pre_hooks \u001b[38;5;129;01mor\u001b[39;00m _global_backward_hooks\n\u001b[1;32m   1189\u001b[0m         \u001b[38;5;129;01mor\u001b[39;00m _global_forward_hooks \u001b[38;5;129;01mor\u001b[39;00m _global_forward_pre_hooks):\n\u001b[0;32m-> 1190\u001b[0m     \u001b[38;5;28;01mreturn\u001b[39;00m \u001b[43mforward_call\u001b[49m\u001b[43m(\u001b[49m\u001b[38;5;241;43m*\u001b[39;49m\u001b[38;5;28;43minput\u001b[39;49m\u001b[43m,\u001b[49m\u001b[43m \u001b[49m\u001b[38;5;241;43m*\u001b[39;49m\u001b[38;5;241;43m*\u001b[39;49m\u001b[43mkwargs\u001b[49m\u001b[43m)\u001b[49m\n\u001b[1;32m   1191\u001b[0m \u001b[38;5;66;03m# Do not call functions when jit is used\u001b[39;00m\n\u001b[1;32m   1192\u001b[0m full_backward_hooks, non_full_backward_hooks \u001b[38;5;241m=\u001b[39m [], []\n",
      "Cell \u001b[0;32mIn [351], line 15\u001b[0m, in \u001b[0;36mBigGenerator.forward\u001b[0;34m(self, inp, h0)\u001b[0m\n\u001b[1;32m     14\u001b[0m \u001b[38;5;28;01mdef\u001b[39;00m \u001b[38;5;21mforward\u001b[39m(\u001b[38;5;28mself\u001b[39m, inp, h0):\n\u001b[0;32m---> 15\u001b[0m     outputs, _ \u001b[38;5;241m=\u001b[39m \u001b[38;5;28;43mself\u001b[39;49m\u001b[38;5;241;43m.\u001b[39;49m\u001b[43mLSTM\u001b[49m\u001b[43m(\u001b[49m\u001b[43minp\u001b[49m\u001b[43m,\u001b[49m\u001b[43m \u001b[49m\u001b[43m(\u001b[49m\u001b[43mh0\u001b[49m\u001b[43m,\u001b[49m\u001b[43m \u001b[49m\u001b[38;5;28;43mself\u001b[39;49m\u001b[38;5;241;43m.\u001b[39;49m\u001b[43mc0\u001b[49m\u001b[43m)\u001b[49m\u001b[43m)\u001b[49m\n\u001b[1;32m     16\u001b[0m     \u001b[38;5;28;01mreturn\u001b[39;00m outputs\n",
      "File \u001b[0;32m~/Desktop/cse616/venv/lib/python3.10/site-packages/torch/nn/modules/module.py:1190\u001b[0m, in \u001b[0;36mModule._call_impl\u001b[0;34m(self, *input, **kwargs)\u001b[0m\n\u001b[1;32m   1186\u001b[0m \u001b[38;5;66;03m# If we don't have any hooks, we want to skip the rest of the logic in\u001b[39;00m\n\u001b[1;32m   1187\u001b[0m \u001b[38;5;66;03m# this function, and just call forward.\u001b[39;00m\n\u001b[1;32m   1188\u001b[0m \u001b[38;5;28;01mif\u001b[39;00m \u001b[38;5;129;01mnot\u001b[39;00m (\u001b[38;5;28mself\u001b[39m\u001b[38;5;241m.\u001b[39m_backward_hooks \u001b[38;5;129;01mor\u001b[39;00m \u001b[38;5;28mself\u001b[39m\u001b[38;5;241m.\u001b[39m_forward_hooks \u001b[38;5;129;01mor\u001b[39;00m \u001b[38;5;28mself\u001b[39m\u001b[38;5;241m.\u001b[39m_forward_pre_hooks \u001b[38;5;129;01mor\u001b[39;00m _global_backward_hooks\n\u001b[1;32m   1189\u001b[0m         \u001b[38;5;129;01mor\u001b[39;00m _global_forward_hooks \u001b[38;5;129;01mor\u001b[39;00m _global_forward_pre_hooks):\n\u001b[0;32m-> 1190\u001b[0m     \u001b[38;5;28;01mreturn\u001b[39;00m \u001b[43mforward_call\u001b[49m\u001b[43m(\u001b[49m\u001b[38;5;241;43m*\u001b[39;49m\u001b[38;5;28;43minput\u001b[39;49m\u001b[43m,\u001b[49m\u001b[43m \u001b[49m\u001b[38;5;241;43m*\u001b[39;49m\u001b[38;5;241;43m*\u001b[39;49m\u001b[43mkwargs\u001b[49m\u001b[43m)\u001b[49m\n\u001b[1;32m   1191\u001b[0m \u001b[38;5;66;03m# Do not call functions when jit is used\u001b[39;00m\n\u001b[1;32m   1192\u001b[0m full_backward_hooks, non_full_backward_hooks \u001b[38;5;241m=\u001b[39m [], []\n",
      "File \u001b[0;32m~/Desktop/cse616/venv/lib/python3.10/site-packages/torch/nn/modules/rnn.py:774\u001b[0m, in \u001b[0;36mLSTM.forward\u001b[0;34m(self, input, hx)\u001b[0m\n\u001b[1;32m    772\u001b[0m \u001b[38;5;28mself\u001b[39m\u001b[38;5;241m.\u001b[39mcheck_forward_args(\u001b[38;5;28minput\u001b[39m, hx, batch_sizes)\n\u001b[1;32m    773\u001b[0m \u001b[38;5;28;01mif\u001b[39;00m batch_sizes \u001b[38;5;129;01mis\u001b[39;00m \u001b[38;5;28;01mNone\u001b[39;00m:\n\u001b[0;32m--> 774\u001b[0m     result \u001b[38;5;241m=\u001b[39m \u001b[43m_VF\u001b[49m\u001b[38;5;241;43m.\u001b[39;49m\u001b[43mlstm\u001b[49m(\u001b[38;5;28minput\u001b[39m, hx, \u001b[38;5;28mself\u001b[39m\u001b[38;5;241m.\u001b[39m_flat_weights, \u001b[38;5;28mself\u001b[39m\u001b[38;5;241m.\u001b[39mbias, \u001b[38;5;28mself\u001b[39m\u001b[38;5;241m.\u001b[39mnum_layers,\n\u001b[1;32m    775\u001b[0m                       \u001b[38;5;28mself\u001b[39m\u001b[38;5;241m.\u001b[39mdropout, \u001b[38;5;28mself\u001b[39m\u001b[38;5;241m.\u001b[39mtraining, \u001b[38;5;28mself\u001b[39m\u001b[38;5;241m.\u001b[39mbidirectional, \u001b[38;5;28mself\u001b[39m\u001b[38;5;241m.\u001b[39mbatch_first)\n\u001b[1;32m    776\u001b[0m \u001b[38;5;28;01melse\u001b[39;00m:\n\u001b[1;32m    777\u001b[0m     result \u001b[38;5;241m=\u001b[39m _VF\u001b[38;5;241m.\u001b[39mlstm(\u001b[38;5;28minput\u001b[39m, batch_sizes, hx, \u001b[38;5;28mself\u001b[39m\u001b[38;5;241m.\u001b[39m_flat_weights, \u001b[38;5;28mself\u001b[39m\u001b[38;5;241m.\u001b[39mbias,\n\u001b[1;32m    778\u001b[0m                       \u001b[38;5;28mself\u001b[39m\u001b[38;5;241m.\u001b[39mnum_layers, \u001b[38;5;28mself\u001b[39m\u001b[38;5;241m.\u001b[39mdropout, \u001b[38;5;28mself\u001b[39m\u001b[38;5;241m.\u001b[39mtraining, \u001b[38;5;28mself\u001b[39m\u001b[38;5;241m.\u001b[39mbidirectional)\n",
      "File \u001b[0;32m~/Desktop/cse616/venv/lib/python3.10/site-packages/torch/_VF.py:26\u001b[0m, in \u001b[0;36mVFModule.__getattr__\u001b[0;34m(self, attr)\u001b[0m\n\u001b[1;32m     23\u001b[0m     \u001b[38;5;28msuper\u001b[39m(VFModule, \u001b[38;5;28mself\u001b[39m)\u001b[38;5;241m.\u001b[39m\u001b[38;5;21m__init__\u001b[39m(name)\n\u001b[1;32m     24\u001b[0m     \u001b[38;5;28mself\u001b[39m\u001b[38;5;241m.\u001b[39mvf \u001b[38;5;241m=\u001b[39m torch\u001b[38;5;241m.\u001b[39m_C\u001b[38;5;241m.\u001b[39m_VariableFunctions\n\u001b[0;32m---> 26\u001b[0m \u001b[38;5;28;01mdef\u001b[39;00m \u001b[38;5;21m__getattr__\u001b[39m(\u001b[38;5;28mself\u001b[39m, attr):\n\u001b[1;32m     27\u001b[0m     \u001b[38;5;28;01mreturn\u001b[39;00m \u001b[38;5;28mgetattr\u001b[39m(\u001b[38;5;28mself\u001b[39m\u001b[38;5;241m.\u001b[39mvf, attr)\n",
      "\u001b[0;31mKeyboardInterrupt\u001b[0m: "
     ]
    }
   ],
   "source": [
    "G_losses = []\n",
    "D_losses = []\n",
    "iters = 0\n",
    "\n",
    "num_epochs = 4\n",
    "\n",
    "state_list = []\n",
    "fixed_noise_doub = fixed_noise.double()\n",
    "\n",
    "print(\"Starting Training Loop...\")\n",
    "# For each epoch\n",
    "dataloader = DataIterator2(train_tensor, batch_size, 10000)\n",
    "\n",
    "intensity_switch = False\n",
    "focus = 5\n",
    "\n",
    "for epoch in range(num_epochs):\n",
    "    # For each batch from training dataset\n",
    "    for i, data in enumerate(dataloader, 0):\n",
    "        ############################\n",
    "        # (1) Update D network: maximize log(D(x)) + log(1 - D(G(z)))\n",
    "        ###########################\n",
    "        ## Train with all-real batch\n",
    "        \n",
    "        label = torch.full((batch_size, ), real_label, dtype=torch.float, device=device)\n",
    "        # if i % 20 == 0:\n",
    "        netBD.zero_grad()\n",
    "        real_cpu = data.to(device)\n",
    "        b_size = real_cpu.size(0)\n",
    "\n",
    "        # Forward pass real batch through D\n",
    "        output = netBD(real_cpu, zero_h0).view(-1)\n",
    "        # Calculate loss on all-real batch\n",
    "        errD_real = criterion(output, label)\n",
    "        # Calculate gradients for D in backward pass\n",
    "        errD_real.backward()\n",
    "        D_x = output.mean().item()\n",
    "            # D_x = -1.\n",
    "        \n",
    "        ## Train with all-fake batch\n",
    "        # Generate batch of latent vectors\n",
    "        noise = torch.randn(batch_size, nz, device=device).double()\n",
    "        with torch.no_grad():\n",
    "            fake_start = netG(noise).float()\n",
    "            fake_start = fake_start.repeat(gen_stack_size, 1, 1)\n",
    "        \n",
    "        fake_actions = torch.randint(-1, 2, (10, batch_size, action_size), device=device).float()\n",
    "        fake_states = netBG(fake_actions, fake_start)\n",
    "        \n",
    "        \n",
    "        # Generate fake start state batch with G\n",
    "        label.fill_(fake_label)\n",
    "        \n",
    "        # if i % 20 == 0:\n",
    "        # Classify all fake batch with D\n",
    "        output = netBD(fake_states.detach(), zero_h0).view(-1)\n",
    "        \n",
    "        # Calculate D's loss on the all-fake batch\n",
    "        errD_fake = criterion(output, label)\n",
    "        # Calculate the gradients for this batch\n",
    "        # added to previous gradients\n",
    "        errD_fake.backward()\n",
    "        D_G_z1 = output.mean().item()\n",
    "        # D_G_z1 = -1.\n",
    "        # Compute error of D as sum over the fake and the\n",
    "        # real batches\n",
    "        errD = errD_real + errD_fake\n",
    "        # Update D\n",
    "        optimizerBD.step()\n",
    "        \n",
    "#         for _ in range(3):\n",
    "#             netBD.zero_grad()\n",
    "#             noise = torch.randn(b_size, nz, device=device).double()\n",
    "#             # Generate fake start state batch with G\n",
    "#             with torch.no_grad():\n",
    "#                 fake_start = netG(noise).float()\n",
    "#                 fake_start = fake_start.repeat(gen_stack_size, 1, 1)\n",
    "            \n",
    "#             fake_actions = torch.randint(-1, 2, (seq_len, b_size, action_size), device=device).float()\n",
    "            \n",
    "#             fake_states = netBG(fake_actions, fake_start)\n",
    "#             # label.fill_(fake_label)\n",
    "\n",
    "#             # if i % 20 == 0:\n",
    "#             # Classify all fake batch with D\n",
    "#             output = netBD(fake_states.detach(), zero_h0).view(-1)\n",
    "#             errD_fake = criterion(output, label)\n",
    "#             # Calculate D's loss on the all-fake batch\n",
    "#             errD_fake = criterion(output, label)\n",
    "#             # Calculate the gradients for this batch\n",
    "#             # added to previous gradients\n",
    "#             errD_fake.backward()\n",
    "            \n",
    "#             # Update D\n",
    "#             optimizerBD.step()\n",
    "        \n",
    "        # if i % 4 != 0:\n",
    "        #     continue\n",
    "        ############################\n",
    "        # (2) Update G network: maximize log(D(G(z)))\n",
    "        ###########################\n",
    "        netBG.zero_grad()\n",
    "        label.fill_(real_label) # fake labels are real for generator cost\n",
    "        # perform another forward pass of fake-batch through D\n",
    "        output = netBD(fake_states, zero_h0).view(-1)\n",
    "        # Calculate G's loss based on this output\n",
    "        errG = criterion(output, label)\n",
    "        # Calculate gradients for G\n",
    "        errG.backward()\n",
    "        D_G_z2 = output.mean().item()\n",
    "        # Update G\n",
    "        optimizerBG.step()\n",
    "        \n",
    "        if D_G_z2 < 0.3 and not intensity_switch:\n",
    "            print('[!!!] Intensifying training...')\n",
    "            intensity_switch = True\n",
    "            focus = 150\n",
    "        elif D_G_z2 > 0.5 and intensity_switch:\n",
    "            print('[!!!] Relaxing training...')\n",
    "            intensity_switch = False\n",
    "            focus = 5\n",
    "        \n",
    "        for _ in range(focus):\n",
    "            netBG.zero_grad()\n",
    "            \n",
    "            noise = torch.randn(batch_size, nz, device=device).double()\n",
    "            with torch.no_grad():\n",
    "                fake_start = netG(noise).float()\n",
    "                fake_start = fake_start.repeat(gen_stack_size, 1, 1)\n",
    "\n",
    "            fake_actions = torch.randint(-1, 2, (10, batch_size, action_size), device=device).float()\n",
    "            fake_states = netBG(fake_actions, fake_start)\n",
    "            \n",
    "            # perform another forward pass of fake-batch through D\n",
    "            output = netBD(fake_states, zero_h0).view(-1)\n",
    "            # Calculate G's loss based on this output\n",
    "            errG2 = criterion(output, label)\n",
    "            # Calculate gradients for G\n",
    "            errG2.backward()\n",
    "            \n",
    "            # Update G\n",
    "            optimizerBG.step()\n",
    "        \n",
    "        # D_G_z2 = -1.\n",
    "        \n",
    "        # Output training stats\n",
    "        if i % 500 == 0:\n",
    "            print('[%d/%d][%d/%d]\\tLoss_D: %.4f\\tLoss_G: %.4f\\tD(x): %.4f\\tD(G(z)): %.4f / %.4f'\n",
    "                  % (epoch, num_epochs, i, len(dataloader),\n",
    "                     errD.item(), errG.item(), D_x, D_G_z1, D_G_z2))\n",
    "        # append losses\n",
    "        G_losses.append(errG.item())\n",
    "        D_losses.append(errD.item())\n",
    "        \n",
    "        # Check how generator is doing by saving G's output\n",
    "#         if (iters % 500 == 0) or ((epoch == num_epochs-1) and\n",
    "#                                  (i == len(dataloader)-1)):\n",
    "#             with torch.no_grad():\n",
    "#                 fake = netG(fixed_noise_doub).detach().cpu()\n",
    "#             state_list.append(fake)\n",
    "        \n",
    "        iters += 1\n"
   ]
  },
  {
   "cell_type": "code",
   "execution_count": 490,
   "id": "1b9c13d2-c0f8-4225-9bed-dba38a097d2d",
   "metadata": {},
   "outputs": [
    {
     "data": {
      "image/png": "[encoded data removed]",
      "text/plain": [
       "<Figure size 1000x500 with 1 Axes>"
      ]
     },
     "metadata": {},
     "output_type": "display_data"
    }
   ],
   "source": [
    "plt.figure(figsize=(10,5))\n",
    "plt.title(\"Generator and Discriminator Loss During Training\")\n",
    "plt.plot(G_losses,label=\"G\")\n",
    "plt.plot(D_losses,label=\"D\")\n",
    "plt.xlabel(\"iterations\")\n",
    "plt.ylabel(\"Loss\")\n",
    "plt.legend()\n",
    "plt.savefig(\"phase2_gan.png\")\n",
    "plt.show()"
   ]
  },
  {
   "cell_type": "code",
   "execution_count": 491,
   "id": "abca48bd-3c48-4395-8bf8-23338e035438",
   "metadata": {},
   "outputs": [
    {
     "ename": "RuntimeError",
     "evalue": "For unbatched 2-D input, hx and cx should also be 2-D but got (1-D, 3-D) tensors",
     "output_type": "error",
     "traceback": [
      "\u001b[0;31m---------------------------------------------------------------------------\u001b[0m",
      "\u001b[0;31mRuntimeError\u001b[0m                              Traceback (most recent call last)",
      "Cell \u001b[0;32mIn [491], line 5\u001b[0m\n\u001b[1;32m      2\u001b[0m     start_state \u001b[38;5;241m=\u001b[39m netG(fixed_noise\u001b[38;5;241m.\u001b[39mdouble()[\u001b[38;5;241m0\u001b[39m])\u001b[38;5;241m.\u001b[39mfloat()\n\u001b[1;32m      3\u001b[0m     fake_actions \u001b[38;5;241m=\u001b[39m torch\u001b[38;5;241m.\u001b[39mrandint(\u001b[38;5;241m-\u001b[39m\u001b[38;5;241m1\u001b[39m, \u001b[38;5;241m2\u001b[39m, (\u001b[38;5;241m3\u001b[39m, \u001b[38;5;241m2\u001b[39m))\u001b[38;5;241m.\u001b[39mfloat()\n\u001b[0;32m----> 5\u001b[0m     outputs, _ \u001b[38;5;241m=\u001b[39m \u001b[43mnetBG\u001b[49m\u001b[43m(\u001b[49m\u001b[43mfake_actions\u001b[49m\u001b[43m,\u001b[49m\u001b[43m \u001b[49m\u001b[43mstart_state\u001b[49m\u001b[43m)\u001b[49m\n\u001b[1;32m      7\u001b[0m \u001b[38;5;28mprint\u001b[39m(outputs)\n",
      "File \u001b[0;32m~/Desktop/cse616/venv/lib/python3.10/site-packages/torch/nn/modules/module.py:1190\u001b[0m, in \u001b[0;36mModule._call_impl\u001b[0;34m(self, *input, **kwargs)\u001b[0m\n\u001b[1;32m   1186\u001b[0m \u001b[38;5;66;03m# If we don't have any hooks, we want to skip the rest of the logic in\u001b[39;00m\n\u001b[1;32m   1187\u001b[0m \u001b[38;5;66;03m# this function, and just call forward.\u001b[39;00m\n\u001b[1;32m   1188\u001b[0m \u001b[38;5;28;01mif\u001b[39;00m \u001b[38;5;129;01mnot\u001b[39;00m (\u001b[38;5;28mself\u001b[39m\u001b[38;5;241m.\u001b[39m_backward_hooks \u001b[38;5;129;01mor\u001b[39;00m \u001b[38;5;28mself\u001b[39m\u001b[38;5;241m.\u001b[39m_forward_hooks \u001b[38;5;129;01mor\u001b[39;00m \u001b[38;5;28mself\u001b[39m\u001b[38;5;241m.\u001b[39m_forward_pre_hooks \u001b[38;5;129;01mor\u001b[39;00m _global_backward_hooks\n\u001b[1;32m   1189\u001b[0m         \u001b[38;5;129;01mor\u001b[39;00m _global_forward_hooks \u001b[38;5;129;01mor\u001b[39;00m _global_forward_pre_hooks):\n\u001b[0;32m-> 1190\u001b[0m     \u001b[38;5;28;01mreturn\u001b[39;00m \u001b[43mforward_call\u001b[49m\u001b[43m(\u001b[49m\u001b[38;5;241;43m*\u001b[39;49m\u001b[38;5;28;43minput\u001b[39;49m\u001b[43m,\u001b[49m\u001b[43m \u001b[49m\u001b[38;5;241;43m*\u001b[39;49m\u001b[38;5;241;43m*\u001b[39;49m\u001b[43mkwargs\u001b[49m\u001b[43m)\u001b[49m\n\u001b[1;32m   1191\u001b[0m \u001b[38;5;66;03m# Do not call functions when jit is used\u001b[39;00m\n\u001b[1;32m   1192\u001b[0m full_backward_hooks, non_full_backward_hooks \u001b[38;5;241m=\u001b[39m [], []\n",
      "Cell \u001b[0;32mIn [351], line 15\u001b[0m, in \u001b[0;36mBigGenerator.forward\u001b[0;34m(self, inp, h0)\u001b[0m\n\u001b[1;32m     14\u001b[0m \u001b[38;5;28;01mdef\u001b[39;00m \u001b[38;5;21mforward\u001b[39m(\u001b[38;5;28mself\u001b[39m, inp, h0):\n\u001b[0;32m---> 15\u001b[0m     outputs, _ \u001b[38;5;241m=\u001b[39m \u001b[38;5;28;43mself\u001b[39;49m\u001b[38;5;241;43m.\u001b[39;49m\u001b[43mLSTM\u001b[49m\u001b[43m(\u001b[49m\u001b[43minp\u001b[49m\u001b[43m,\u001b[49m\u001b[43m \u001b[49m\u001b[43m(\u001b[49m\u001b[43mh0\u001b[49m\u001b[43m,\u001b[49m\u001b[43m \u001b[49m\u001b[38;5;28;43mself\u001b[39;49m\u001b[38;5;241;43m.\u001b[39;49m\u001b[43mc0\u001b[49m\u001b[43m)\u001b[49m\u001b[43m)\u001b[49m\n\u001b[1;32m     16\u001b[0m     \u001b[38;5;28;01mreturn\u001b[39;00m outputs\n",
      "File \u001b[0;32m~/Desktop/cse616/venv/lib/python3.10/site-packages/torch/nn/modules/module.py:1190\u001b[0m, in \u001b[0;36mModule._call_impl\u001b[0;34m(self, *input, **kwargs)\u001b[0m\n\u001b[1;32m   1186\u001b[0m \u001b[38;5;66;03m# If we don't have any hooks, we want to skip the rest of the logic in\u001b[39;00m\n\u001b[1;32m   1187\u001b[0m \u001b[38;5;66;03m# this function, and just call forward.\u001b[39;00m\n\u001b[1;32m   1188\u001b[0m \u001b[38;5;28;01mif\u001b[39;00m \u001b[38;5;129;01mnot\u001b[39;00m (\u001b[38;5;28mself\u001b[39m\u001b[38;5;241m.\u001b[39m_backward_hooks \u001b[38;5;129;01mor\u001b[39;00m \u001b[38;5;28mself\u001b[39m\u001b[38;5;241m.\u001b[39m_forward_hooks \u001b[38;5;129;01mor\u001b[39;00m \u001b[38;5;28mself\u001b[39m\u001b[38;5;241m.\u001b[39m_forward_pre_hooks \u001b[38;5;129;01mor\u001b[39;00m _global_backward_hooks\n\u001b[1;32m   1189\u001b[0m         \u001b[38;5;129;01mor\u001b[39;00m _global_forward_hooks \u001b[38;5;129;01mor\u001b[39;00m _global_forward_pre_hooks):\n\u001b[0;32m-> 1190\u001b[0m     \u001b[38;5;28;01mreturn\u001b[39;00m \u001b[43mforward_call\u001b[49m\u001b[43m(\u001b[49m\u001b[38;5;241;43m*\u001b[39;49m\u001b[38;5;28;43minput\u001b[39;49m\u001b[43m,\u001b[49m\u001b[43m \u001b[49m\u001b[38;5;241;43m*\u001b[39;49m\u001b[38;5;241;43m*\u001b[39;49m\u001b[43mkwargs\u001b[49m\u001b[43m)\u001b[49m\n\u001b[1;32m   1191\u001b[0m \u001b[38;5;66;03m# Do not call functions when jit is used\u001b[39;00m\n\u001b[1;32m   1192\u001b[0m full_backward_hooks, non_full_backward_hooks \u001b[38;5;241m=\u001b[39m [], []\n",
      "File \u001b[0;32m~/Desktop/cse616/venv/lib/python3.10/site-packages/torch/nn/modules/rnn.py:765\u001b[0m, in \u001b[0;36mLSTM.forward\u001b[0;34m(self, input, hx)\u001b[0m\n\u001b[1;32m    762\u001b[0m         \u001b[38;5;28;01mif\u001b[39;00m hx[\u001b[38;5;241m0\u001b[39m]\u001b[38;5;241m.\u001b[39mdim() \u001b[38;5;241m!=\u001b[39m \u001b[38;5;241m2\u001b[39m \u001b[38;5;129;01mor\u001b[39;00m hx[\u001b[38;5;241m1\u001b[39m]\u001b[38;5;241m.\u001b[39mdim() \u001b[38;5;241m!=\u001b[39m \u001b[38;5;241m2\u001b[39m:\n\u001b[1;32m    763\u001b[0m             msg \u001b[38;5;241m=\u001b[39m (\u001b[38;5;124m\"\u001b[39m\u001b[38;5;124mFor unbatched 2-D input, hx and cx should \u001b[39m\u001b[38;5;124m\"\u001b[39m\n\u001b[1;32m    764\u001b[0m                    \u001b[38;5;124mf\u001b[39m\u001b[38;5;124m\"\u001b[39m\u001b[38;5;124malso be 2-D but got (\u001b[39m\u001b[38;5;132;01m{\u001b[39;00mhx[\u001b[38;5;241m0\u001b[39m]\u001b[38;5;241m.\u001b[39mdim()\u001b[38;5;132;01m}\u001b[39;00m\u001b[38;5;124m-D, \u001b[39m\u001b[38;5;132;01m{\u001b[39;00mhx[\u001b[38;5;241m1\u001b[39m]\u001b[38;5;241m.\u001b[39mdim()\u001b[38;5;132;01m}\u001b[39;00m\u001b[38;5;124m-D) tensors\u001b[39m\u001b[38;5;124m\"\u001b[39m)\n\u001b[0;32m--> 765\u001b[0m             \u001b[38;5;28;01mraise\u001b[39;00m \u001b[38;5;167;01mRuntimeError\u001b[39;00m(msg)\n\u001b[1;32m    766\u001b[0m         hx \u001b[38;5;241m=\u001b[39m (hx[\u001b[38;5;241m0\u001b[39m]\u001b[38;5;241m.\u001b[39munsqueeze(\u001b[38;5;241m1\u001b[39m), hx[\u001b[38;5;241m1\u001b[39m]\u001b[38;5;241m.\u001b[39munsqueeze(\u001b[38;5;241m1\u001b[39m))\n\u001b[1;32m    768\u001b[0m \u001b[38;5;66;03m# Each batch of the hidden state should match the input sequence that\u001b[39;00m\n\u001b[1;32m    769\u001b[0m \u001b[38;5;66;03m# the user believes he/she is passing in.\u001b[39;00m\n",
      "\u001b[0;31mRuntimeError\u001b[0m: For unbatched 2-D input, hx and cx should also be 2-D but got (1-D, 3-D) tensors"
     ]
    }
   ],
   "source": [
    "with torch.no_grad():\n",
    "    start_state = netG(fixed_noise.double()[0]).float()\n",
    "    fake_actions = torch.randint(-1, 2, (3, 2)).float()\n",
    "    \n",
    "    outputs, _ = netBG(fake_actions, start_state)\n",
    "\n",
    "print(outputs)"
   ]
  },
  {
   "cell_type": "code",
   "execution_count": null,
   "id": "33d1414e-2e0c-41b0-b0c9-cd200a58724e",
   "metadata": {},
   "outputs": [],
   "source": []
  }
 ],
 "metadata": {
  "kernelspec": {
   "display_name": "Python 3 (ipykernel)",
   "language": "python",
   "name": "python3"
  },
  "language_info": {
   "codemirror_mode": {
    "name": "ipython",
    "version": 3
   },
   "file_extension": ".py",
   "mimetype": "text/x-python",
   "name": "python",
   "nbconvert_exporter": "python",
   "pygments_lexer": "ipython3",
   "version": "3.10.6"
  }
 },
 "nbformat": 4,
 "nbformat_minor": 5
}
